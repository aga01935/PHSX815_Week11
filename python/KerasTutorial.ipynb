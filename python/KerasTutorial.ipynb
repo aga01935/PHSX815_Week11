{
  "nbformat": 4,
  "nbformat_minor": 0,
  "metadata": {
    "kernelspec": {
      "display_name": "Python 3",
      "language": "python",
      "name": "python3"
    },
    "language_info": {
      "codemirror_mode": {
        "name": "ipython",
        "version": 3
      },
      "file_extension": ".py",
      "mimetype": "text/x-python",
      "name": "python",
      "nbconvert_exporter": "python",
      "pygments_lexer": "ipython3",
      "version": "3.7.6"
    },
    "colab": {
      "name": "KerasTutorial.ipynb",
      "provenance": []
    }
  },
  "cells": [
    {
      "cell_type": "markdown",
      "metadata": {
        "id": "YFv3DXqSWrqT"
      },
      "source": [
        "## PHSX 815 Neural Network with Keras tutorial\n",
        "### How can we predict the quality of wine based on its physical characteristics?\n",
        "We will download the `wine_quality` dataset from Tensorflow (the Keras backend) to train a neural network to predict wine quality."
      ]
    },
    {
      "cell_type": "code",
      "metadata": {
        "id": "HjlSS2qLWrqa"
      },
      "source": [
        "import matplotlib.pyplot as plt\n",
        "import seaborn as sns\n",
        "import numpy as np\n",
        "from sklearn.preprocessing import OneHotEncoder, MinMaxScaler\n",
        "from sklearn.metrics import confusion_matrix\n",
        "from sklearn.model_selection import train_test_split\n",
        "import pandas as pd\n",
        "\n",
        "import tensorflow as tf\n",
        "from tensorflow.keras.models import Sequential, Model\n",
        "from tensorflow.keras.layers import *\n",
        "# from tensorflow.keras.optimizers import SGD, Adam\n",
        "# from tensorflow.keras.activations import relu\n",
        "import tensorflow_datasets as tfds\n",
        "from IPython.core.interactiveshell import InteractiveShell\n",
        "InteractiveShell.ast_node_interactivity = \"all\""
      ],
      "execution_count": 23,
      "outputs": []
    },
    {
      "cell_type": "code",
      "metadata": {
        "id": "vPVV1xoZWrqb",
        "outputId": "6b0bb332-3e31-4596-869e-a191b9665e94",
        "colab": {
          "base_uri": "https://localhost:8080/"
        }
      },
      "source": [
        "#if you want to load the data as tuples, you can use the as_supervised=True argument\n",
        "data_train = tfds.load('wine_quality',split='train',as_supervised=True)\n",
        "\n",
        "#looking at just one sample of our data\n",
        "pt = data_train.take(1)\n",
        "# type(pt)\n",
        "\n",
        "#can convert this TakeDataset object to a numpy array (can do this for the whole dataset too)\n",
        "print(\"Features and label for first entry\")\n",
        "for features, label in tfds.as_numpy(pt):\n",
        "    print(features,label)\n",
        "\n",
        "#we want to load dataset as a a dictionary of tf.Tensors (can't transform tuples to dataframe)\n",
        "data_train_white = tfds.load('wine_quality/white',split='train')\n",
        "data_train_red = tfds.load('wine_quality/red',split='train')\n",
        "\n",
        "#transform dictionary to dataframe - combining red and white wine\n",
        "df_white = tfds.as_dataframe(data_train_white)\n",
        "df_red = tfds.as_dataframe(data_train_red)\n",
        "df = pd.concat([df_white,df_red])\n",
        "\n",
        "print('number of samples',len(df['quality']))\n",
        "\n",
        "#what are our output possibilities?\n",
        "print('possible wine quality ratings',df['quality'].unique())"
      ],
      "execution_count": 24,
      "outputs": [
        {
          "output_type": "stream",
          "text": [
            "Features and label for first entry\n",
            "{'alcohol': 9.0, 'chlorides': 0.054, 'citric acid': 0.34, 'density': 1.0008, 'fixed acidity': 7.6, 'free sulfur dioxide': 44.0, 'pH': 3.22, 'residual sugar': 18.35, 'sulphates': 0.550000011920929, 'total sulfur dioxide': 197.0, 'volatile acidity': 0.32} 5\n",
            "number of samples 6497\n",
            "possible wine quality ratings [5 6 4 8 7 3 9]\n"
          ],
          "name": "stdout"
        }
      ]
    },
    {
      "cell_type": "code",
      "metadata": {
        "id": "oCmygk1AWrqc",
        "outputId": "467b5d08-5e52-4017-fe8f-a31f7bc0ff29",
        "colab": {
          "base_uri": "https://localhost:8080/"
        }
      },
      "source": [
        "#do we have any missing data (empty or NaN entries in features or labels)?\n",
        "dataNans = df.isnull().values.any()\n",
        "if not dataNans:\n",
        "    print(\"all good!\")"
      ],
      "execution_count": 5,
      "outputs": [
        {
          "output_type": "stream",
          "text": [
            "all good!\n"
          ],
          "name": "stdout"
        }
      ]
    },
    {
      "cell_type": "markdown",
      "metadata": {
        "id": "F76JfSayWrqd"
      },
      "source": [
        "### Preprocessing our labels\n",
        "Although this may seem like a regression task for a neural network because we are predicting a number (wine quality), the labels are actually *categorical* not *continuous*. If you look at the labels, you see that they are integer values between 5 and 9. Because this is a classification problem, we need to one-hot encode our labels. This means taking our possible outcomes and turning them into arrays of a 1 and 0's. The index of the 1 in the array will tell us which class is which. So, for example, 5 becomes [1,0,0,0,0], 6 becomes [0,1,0,0,0] and so on. We can use a function from sklearn to do this automatically."
      ]
    },
    {
      "cell_type": "markdown",
      "metadata": {
        "id": "a6RQW2BFWrqd"
      },
      "source": [
        "this dataset unfortunately only gives us training data - but we can set aside a portion for testing our network on. in practice, you don't want to test your network on data it has already seen (is it really a prediction if you use your model on data it was fitted to?) but, for educational purposes, we can ~randomly sample our data and call it ~iid.\n",
        "Here, I combine the red and white wine datasets for increased statistics. What happens if you train networks on these datasets separately? Or what happens if you use one dataset to train and one to test?"
      ]
    },
    {
      "cell_type": "code",
      "metadata": {
        "id": "3mm5HHy2Wrqd",
        "outputId": "225e2a8d-88a3-4cb9-f78c-991b3897dc90",
        "colab": {
          "base_uri": "https://localhost:8080/",
          "height": 555
        }
      },
      "source": [
        "#it's helpful to separate our input features from our target features (quality) \n",
        "#so we can later only transform our inputs without changing our labels\n",
        "labels = df['quality']\n",
        "df = df.drop(labels='quality',axis=1)\n",
        "labels.unique()\n",
        "\n",
        "enc = OneHotEncoder(sparse=False)\n",
        "labels = enc.fit_transform(labels.to_numpy().reshape(-1,1))\n",
        "\n",
        "#make our test data\n",
        "df, df_test, labels, df_testLabels = train_test_split(df,labels,test_size=0.1)\n",
        "\n",
        "#look at the first 5 entries\n",
        "df.head()"
      ],
      "execution_count": 16,
      "outputs": [
        {
          "output_type": "error",
          "ename": "KeyError",
          "evalue": "ignored",
          "traceback": [
            "\u001b[0;31m---------------------------------------------------------------------------\u001b[0m",
            "\u001b[0;31mKeyError\u001b[0m                                  Traceback (most recent call last)",
            "\u001b[0;32m/usr/local/lib/python3.7/dist-packages/pandas/core/indexes/base.py\u001b[0m in \u001b[0;36mget_loc\u001b[0;34m(self, key, method, tolerance)\u001b[0m\n\u001b[1;32m   2897\u001b[0m             \u001b[0;32mtry\u001b[0m\u001b[0;34m:\u001b[0m\u001b[0;34m\u001b[0m\u001b[0;34m\u001b[0m\u001b[0m\n\u001b[0;32m-> 2898\u001b[0;31m                 \u001b[0;32mreturn\u001b[0m \u001b[0mself\u001b[0m\u001b[0;34m.\u001b[0m\u001b[0m_engine\u001b[0m\u001b[0;34m.\u001b[0m\u001b[0mget_loc\u001b[0m\u001b[0;34m(\u001b[0m\u001b[0mcasted_key\u001b[0m\u001b[0;34m)\u001b[0m\u001b[0;34m\u001b[0m\u001b[0;34m\u001b[0m\u001b[0m\n\u001b[0m\u001b[1;32m   2899\u001b[0m             \u001b[0;32mexcept\u001b[0m \u001b[0mKeyError\u001b[0m \u001b[0;32mas\u001b[0m \u001b[0merr\u001b[0m\u001b[0;34m:\u001b[0m\u001b[0;34m\u001b[0m\u001b[0;34m\u001b[0m\u001b[0m\n",
            "\u001b[0;32mpandas/_libs/index.pyx\u001b[0m in \u001b[0;36mpandas._libs.index.IndexEngine.get_loc\u001b[0;34m()\u001b[0m\n",
            "\u001b[0;32mpandas/_libs/index.pyx\u001b[0m in \u001b[0;36mpandas._libs.index.IndexEngine.get_loc\u001b[0;34m()\u001b[0m\n",
            "\u001b[0;32mpandas/_libs/hashtable_class_helper.pxi\u001b[0m in \u001b[0;36mpandas._libs.hashtable.PyObjectHashTable.get_item\u001b[0;34m()\u001b[0m\n",
            "\u001b[0;32mpandas/_libs/hashtable_class_helper.pxi\u001b[0m in \u001b[0;36mpandas._libs.hashtable.PyObjectHashTable.get_item\u001b[0;34m()\u001b[0m\n",
            "\u001b[0;31mKeyError\u001b[0m: 'quality'",
            "\nThe above exception was the direct cause of the following exception:\n",
            "\u001b[0;31mKeyError\u001b[0m                                  Traceback (most recent call last)",
            "\u001b[0;32m<ipython-input-16-8c4a99bb0735>\u001b[0m in \u001b[0;36m<module>\u001b[0;34m()\u001b[0m\n\u001b[1;32m      1\u001b[0m \u001b[0;31m#it's helpful to separate our input features from our target features (quality)\u001b[0m\u001b[0;34m\u001b[0m\u001b[0;34m\u001b[0m\u001b[0;34m\u001b[0m\u001b[0m\n\u001b[1;32m      2\u001b[0m \u001b[0;31m#so we can later only transform our inputs without changing our labels\u001b[0m\u001b[0;34m\u001b[0m\u001b[0;34m\u001b[0m\u001b[0;34m\u001b[0m\u001b[0m\n\u001b[0;32m----> 3\u001b[0;31m \u001b[0mlabels\u001b[0m \u001b[0;34m=\u001b[0m \u001b[0mdf\u001b[0m\u001b[0;34m[\u001b[0m\u001b[0;34m'quality'\u001b[0m\u001b[0;34m]\u001b[0m\u001b[0;34m\u001b[0m\u001b[0;34m\u001b[0m\u001b[0m\n\u001b[0m\u001b[1;32m      4\u001b[0m \u001b[0mdf\u001b[0m \u001b[0;34m=\u001b[0m \u001b[0mdf\u001b[0m\u001b[0;34m.\u001b[0m\u001b[0mdrop\u001b[0m\u001b[0;34m(\u001b[0m\u001b[0mlabels\u001b[0m\u001b[0;34m=\u001b[0m\u001b[0;34m'quality'\u001b[0m\u001b[0;34m,\u001b[0m\u001b[0maxis\u001b[0m\u001b[0;34m=\u001b[0m\u001b[0;36m1\u001b[0m\u001b[0;34m)\u001b[0m\u001b[0;34m\u001b[0m\u001b[0;34m\u001b[0m\u001b[0m\n\u001b[1;32m      5\u001b[0m \u001b[0mlabels\u001b[0m\u001b[0;34m.\u001b[0m\u001b[0munique\u001b[0m\u001b[0;34m(\u001b[0m\u001b[0;34m)\u001b[0m\u001b[0;34m\u001b[0m\u001b[0;34m\u001b[0m\u001b[0m\n",
            "\u001b[0;32m/usr/local/lib/python3.7/dist-packages/pandas/core/frame.py\u001b[0m in \u001b[0;36m__getitem__\u001b[0;34m(self, key)\u001b[0m\n\u001b[1;32m   2904\u001b[0m             \u001b[0;32mif\u001b[0m \u001b[0mself\u001b[0m\u001b[0;34m.\u001b[0m\u001b[0mcolumns\u001b[0m\u001b[0;34m.\u001b[0m\u001b[0mnlevels\u001b[0m \u001b[0;34m>\u001b[0m \u001b[0;36m1\u001b[0m\u001b[0;34m:\u001b[0m\u001b[0;34m\u001b[0m\u001b[0;34m\u001b[0m\u001b[0m\n\u001b[1;32m   2905\u001b[0m                 \u001b[0;32mreturn\u001b[0m \u001b[0mself\u001b[0m\u001b[0;34m.\u001b[0m\u001b[0m_getitem_multilevel\u001b[0m\u001b[0;34m(\u001b[0m\u001b[0mkey\u001b[0m\u001b[0;34m)\u001b[0m\u001b[0;34m\u001b[0m\u001b[0;34m\u001b[0m\u001b[0m\n\u001b[0;32m-> 2906\u001b[0;31m             \u001b[0mindexer\u001b[0m \u001b[0;34m=\u001b[0m \u001b[0mself\u001b[0m\u001b[0;34m.\u001b[0m\u001b[0mcolumns\u001b[0m\u001b[0;34m.\u001b[0m\u001b[0mget_loc\u001b[0m\u001b[0;34m(\u001b[0m\u001b[0mkey\u001b[0m\u001b[0;34m)\u001b[0m\u001b[0;34m\u001b[0m\u001b[0;34m\u001b[0m\u001b[0m\n\u001b[0m\u001b[1;32m   2907\u001b[0m             \u001b[0;32mif\u001b[0m \u001b[0mis_integer\u001b[0m\u001b[0;34m(\u001b[0m\u001b[0mindexer\u001b[0m\u001b[0;34m)\u001b[0m\u001b[0;34m:\u001b[0m\u001b[0;34m\u001b[0m\u001b[0;34m\u001b[0m\u001b[0m\n\u001b[1;32m   2908\u001b[0m                 \u001b[0mindexer\u001b[0m \u001b[0;34m=\u001b[0m \u001b[0;34m[\u001b[0m\u001b[0mindexer\u001b[0m\u001b[0;34m]\u001b[0m\u001b[0;34m\u001b[0m\u001b[0;34m\u001b[0m\u001b[0m\n",
            "\u001b[0;32m/usr/local/lib/python3.7/dist-packages/pandas/core/indexes/base.py\u001b[0m in \u001b[0;36mget_loc\u001b[0;34m(self, key, method, tolerance)\u001b[0m\n\u001b[1;32m   2898\u001b[0m                 \u001b[0;32mreturn\u001b[0m \u001b[0mself\u001b[0m\u001b[0;34m.\u001b[0m\u001b[0m_engine\u001b[0m\u001b[0;34m.\u001b[0m\u001b[0mget_loc\u001b[0m\u001b[0;34m(\u001b[0m\u001b[0mcasted_key\u001b[0m\u001b[0;34m)\u001b[0m\u001b[0;34m\u001b[0m\u001b[0;34m\u001b[0m\u001b[0m\n\u001b[1;32m   2899\u001b[0m             \u001b[0;32mexcept\u001b[0m \u001b[0mKeyError\u001b[0m \u001b[0;32mas\u001b[0m \u001b[0merr\u001b[0m\u001b[0;34m:\u001b[0m\u001b[0;34m\u001b[0m\u001b[0;34m\u001b[0m\u001b[0m\n\u001b[0;32m-> 2900\u001b[0;31m                 \u001b[0;32mraise\u001b[0m \u001b[0mKeyError\u001b[0m\u001b[0;34m(\u001b[0m\u001b[0mkey\u001b[0m\u001b[0;34m)\u001b[0m \u001b[0;32mfrom\u001b[0m \u001b[0merr\u001b[0m\u001b[0;34m\u001b[0m\u001b[0;34m\u001b[0m\u001b[0m\n\u001b[0m\u001b[1;32m   2901\u001b[0m \u001b[0;34m\u001b[0m\u001b[0m\n\u001b[1;32m   2902\u001b[0m         \u001b[0;32mif\u001b[0m \u001b[0mtolerance\u001b[0m \u001b[0;32mis\u001b[0m \u001b[0;32mnot\u001b[0m \u001b[0;32mNone\u001b[0m\u001b[0;34m:\u001b[0m\u001b[0;34m\u001b[0m\u001b[0;34m\u001b[0m\u001b[0m\n",
            "\u001b[0;31mKeyError\u001b[0m: 'quality'"
          ]
        }
      ]
    },
    {
      "cell_type": "markdown",
      "metadata": {
        "id": "11ct2Xz_Wrqe"
      },
      "source": [
        "### some questions to consider:\n",
        "- how was this data obtained? what goes into engineering the features? what does \"quality\" mean?\n",
        "- do you have to normalize your features?\n",
        "- are there any correlations among features? is this expected? how can we encode this information to the NN or decouple these features?\n",
        "- what does the data look like?\n",
        "- do we have any missing or NaN entries?"
      ]
    },
    {
      "cell_type": "markdown",
      "metadata": {
        "id": "gxZJSKbfWrqe"
      },
      "source": [
        "let's examine the data to see what kinds of transformations we need to make for preprocessing"
      ]
    },
    {
      "cell_type": "code",
      "metadata": {
        "id": "NHoK8BKgWrqe"
      },
      "source": [
        "df.describe()"
      ],
      "execution_count": null,
      "outputs": []
    },
    {
      "cell_type": "markdown",
      "metadata": {
        "id": "oxwEloavWrqf"
      },
      "source": [
        "### Visualizing data\n",
        "If you want a cool and easy way to visualize not only the features, but also the correlations between features, you can use the following seaborn function, which will display the individual features on the diagonal of the subplots and the correlations between features\n",
        "\n",
        "`pl = sns.pairplot(df[df.columns], diag_kind='kde')`"
      ]
    },
    {
      "cell_type": "code",
      "metadata": {
        "id": "Rq7cPKUHWrqf",
        "outputId": "db9ccf54-caec-48a3-dd4a-c42bfaa3fe48",
        "colab": {
          "base_uri": "https://localhost:8080/",
          "height": 1000
        }
      },
      "source": [
        "#visualizing our input features\n",
        "nFeatures = len(df.columns)\n",
        "nCols = 3\n",
        "nRows = int(np.ceil(nFeatures/nCols))\n",
        "cols = df.columns\n",
        "fig, axs = plt.subplots(nRows,nCols,figsize=(15,20))\n",
        "# for i, ax in enumerate(axs)\n",
        "col = 0\n",
        "for i in range(nRows):\n",
        "    for j in range(nCols):\n",
        "        if col >= nFeatures:\n",
        "            break\n",
        "        h = axs[i,j].hist(df[cols[col]])\n",
        "        h = axs[i,j].set_title(cols[col])\n",
        "        col += 1"
      ],
      "execution_count": 8,
      "outputs": [
        {
          "output_type": "display_data",
          "data": {
            "image/png": "[encoded data removed]",
            "text/plain": [
              "<Figure size 1080x1440 with 12 Axes>"
            ]
          },
          "metadata": {
            "tags": [],
            "needs_background": "light"
          }
        }
      ]
    },
    {
      "cell_type": "markdown",
      "metadata": {
        "id": "VpuTODaHWrqg"
      },
      "source": [
        "It looks like there are two types of sulfur dioxide features: total sulfur dioxide and free sulfur dioxide. I'm not entirely sure what sulfur dioxide is (I am neither a chemist nor a sommelier) so I'm curious if there is a correlation between these features. "
      ]
    },
    {
      "cell_type": "code",
      "metadata": {
        "id": "fhePXSNgWrqg",
        "outputId": "0dccb9c5-8e23-4092-ce3b-a4bdade38391",
        "colab": {
          "base_uri": "https://localhost:8080/",
          "height": 282
        }
      },
      "source": [
        "plt.scatter(df['features/free sulfur dioxide'],df['features/total sulfur dioxide'])"
      ],
      "execution_count": 9,
      "outputs": [
        {
          "output_type": "execute_result",
          "data": {
            "text/plain": [
              "<matplotlib.collections.PathCollection at 0x7fa01b2f1890>"
            ]
          },
          "metadata": {
            "tags": []
          },
          "execution_count": 9
        },
        {
          "output_type": "display_data",
          "data": {
            "image/png": "[encoded data removed]",
            "text/plain": [
              "<Figure size 432x288 with 1 Axes>"
            ]
          },
          "metadata": {
            "tags": [],
            "needs_background": "light"
          }
        }
      ]
    },
    {
      "cell_type": "markdown",
      "metadata": {
        "id": "uaAd7sqGWrqg"
      },
      "source": [
        "It looks like there is some correlation between these features. If I had to guess, I would say \"free sulfur dioxide\" is a subset of \"total sulfur dioxide\" but I'm not sure how or even if either of these features would affect the wine quality. This is where domain specific knowledge would be helpful! Since I have a degree in physics and not wine studies (contrary to what my weekend activities may imply) I am going to see what happens when we include both of these features in our network."
      ]
    },
    {
      "cell_type": "markdown",
      "metadata": {
        "id": "8qkTSvXzWrqh"
      },
      "source": [
        "This was just a cursory look at our data. In reality, data scientists will spend most of their time feature engineering, fixing incomplete datasets, cleaning data, etc. Feel free to do more exploratory analysis on the data before you pass it through to a network!"
      ]
    },
    {
      "cell_type": "markdown",
      "metadata": {
        "id": "9Cqq8LrFWrqh"
      },
      "source": [
        "## Let's build our network!\n",
        "We want to build a simple DNN to essentially perform a categorization. Let's start with something simple: only a couple hidden layers and a handful of neurons. Of course, in accordance with the Universal Approximation Theorem, any function can be approximated arbitrarily well with an arbitrarily large number of layers (Lu et. al. 2017) or arbitrarily large number of neurons (Cybenko 1989). Does the network perform better or worse with an increase in layers or neurons?"
      ]
    },
    {
      "cell_type": "code",
      "metadata": {
        "id": "m81g_3e9Wrqh",
        "outputId": "b63beeba-6df2-467e-88ac-d8b07c832d8a",
        "colab": {
          "base_uri": "https://localhost:8080/"
        }
      },
      "source": [
        "cols = df.columns\n",
        "nClasses = len(labels[0])\n",
        "\n",
        "#using Keras's Sequential model - https://keras.io/api/models/sequential/\n",
        "model = Sequential()\n",
        "#add input layer\n",
        "model.add(Input(shape=(len(cols),))) #the input layer shape should match the number of features we have\n",
        "#add first layer of fully connected neurons\n",
        "model.add(Dense(64,activation='relu'))\n",
        "#add second layer (first hidden layer)\n",
        "model.add(Dense(64,activation='relu'))\n",
        "#and one more because why not\n",
        "model.add(Dense(64,activation='relu'))\n",
        "#finally, our output layer should have only one neuron because we are trying to predict only one number\n",
        "#notice how there is a different activation function in this layer\n",
        "#this is because we want our outputs for each class to be a probability\n",
        "model.add(Dense(nClasses,activation='softmax'))\n",
        "\n",
        "#compile our model - set our loss metric (categorical cross entropy) and optimizer (stochastic gradient descent)\n",
        "#how does the model performance change with different optimizers (ie AdaGrad, SGD, etc.)?\n",
        "model.compile(loss='CategoricalCrossentropy',optimizer='Adam',metrics=['accuracy'])\n",
        "\n",
        "#let's see a summary of our model\n",
        "model.summary()"
      ],
      "execution_count": 17,
      "outputs": [
        {
          "output_type": "stream",
          "text": [
            "Model: \"sequential_1\"\n",
            "_________________________________________________________________\n",
            "Layer (type)                 Output Shape              Param #   \n",
            "=================================================================\n",
            "dense_4 (Dense)              (None, 64)                768       \n",
            "_________________________________________________________________\n",
            "dense_5 (Dense)              (None, 64)                4160      \n",
            "_________________________________________________________________\n",
            "dense_6 (Dense)              (None, 64)                4160      \n",
            "_________________________________________________________________\n",
            "dense_7 (Dense)              (None, 7)                 455       \n",
            "=================================================================\n",
            "Total params: 9,543\n",
            "Trainable params: 9,543\n",
            "Non-trainable params: 0\n",
            "_________________________________________________________________\n"
          ],
          "name": "stdout"
        }
      ]
    },
    {
      "cell_type": "markdown",
      "metadata": {
        "id": "BglMPkOxWrqh"
      },
      "source": [
        "As shown above, we have a network with four layers, 128 neurons/layer, for a total of ~50k trainable parameters (remember: parameters are the biases and weights that the network learns). Imagine how many parameters a large, complex network at Google has!"
      ]
    },
    {
      "cell_type": "markdown",
      "metadata": {
        "id": "FJwh6ujMWrqi"
      },
      "source": [
        "### the same model can be built using the generic Model class and slightly different syntax\n",
        "`\n",
        "inputs = tf.keras.Input(shape=(len(cols),))\n",
        "outputs_L1 = Dense(64, activation='relu')(inputs)\n",
        "outputs_L2 = Dense(64, activation='relu')(outputs_L1)\n",
        "outputs_L3 = Dense(64, activation='relu')(outputs_L2)\n",
        "pred = Dense(1)(outputs_L3)\n",
        "model = Model(inputs=inputs,outputs=pred)\n",
        "`"
      ]
    },
    {
      "cell_type": "markdown",
      "metadata": {
        "id": "qYv1LwwsWrqi"
      },
      "source": [
        "### Training our model\n",
        "\n",
        "Let's give our model all the input features (df), the corresponding labels (labels)\n",
        "\n",
        "There is a 20% validation split, which means that 80% of our data will be used to train the model parameters\n",
        "while 20% of it will be saved to \"check\" our answers. This is data that the model has not seen (been trained on) so the performance on the validation data should give us an idea of if the model is over- or underfitting.\n",
        "\n",
        "We will train for 100 epochs, which means that the entire dataset will be passed through the whole network 100 times. Our batch size is 20, meaning that 20 samples at a time are passed to the network before the parameters are updated. The `shuffle` argument ensures that our data is shuffled before the beginning of each epoch to reduce spurious learned correlations. What happens if you let the model run for more epochs?\n"
      ]
    },
    {
      "cell_type": "code",
      "metadata": {
        "id": "x2J8JcEaWrqj",
        "outputId": "0a77fc95-734f-4f7a-8e53-c2b8dcbdb076",
        "colab": {
          "base_uri": "https://localhost:8080/"
        }
      },
      "source": [
        "history = model.fit(\n",
        "    df, labels,\n",
        "    validation_split=0.3,\n",
        "    verbose=1, epochs=100, batch_size=100, shuffle=True)"
      ],
      "execution_count": 18,
      "outputs": [
        {
          "output_type": "stream",
          "text": [
            "Epoch 1/100\n",
            "41/41 [==============================] - 1s 8ms/step - loss: 9.0380 - accuracy: 0.1736 - val_loss: 1.6241 - val_accuracy: 0.3578\n",
            "Epoch 2/100\n",
            "41/41 [==============================] - 0s 3ms/step - loss: 1.3911 - accuracy: 0.3994 - val_loss: 1.3338 - val_accuracy: 0.4296\n",
            "Epoch 3/100\n",
            "41/41 [==============================] - 0s 3ms/step - loss: 1.3148 - accuracy: 0.4219 - val_loss: 1.2992 - val_accuracy: 0.4205\n",
            "Epoch 4/100\n",
            "41/41 [==============================] - 0s 3ms/step - loss: 1.2739 - accuracy: 0.4402 - val_loss: 1.2861 - val_accuracy: 0.4490\n",
            "Epoch 5/100\n",
            "41/41 [==============================] - 0s 3ms/step - loss: 1.2336 - accuracy: 0.4594 - val_loss: 1.3169 - val_accuracy: 0.3812\n",
            "Epoch 6/100\n",
            "41/41 [==============================] - 0s 3ms/step - loss: 1.2484 - accuracy: 0.4417 - val_loss: 1.2561 - val_accuracy: 0.4553\n",
            "Epoch 7/100\n",
            "41/41 [==============================] - 0s 3ms/step - loss: 1.2528 - accuracy: 0.4467 - val_loss: 1.2547 - val_accuracy: 0.4405\n",
            "Epoch 8/100\n",
            "41/41 [==============================] - 0s 4ms/step - loss: 1.2500 - accuracy: 0.4562 - val_loss: 1.2806 - val_accuracy: 0.4085\n",
            "Epoch 9/100\n",
            "41/41 [==============================] - 0s 3ms/step - loss: 1.2422 - accuracy: 0.4366 - val_loss: 1.2590 - val_accuracy: 0.4405\n",
            "Epoch 10/100\n",
            "41/41 [==============================] - 0s 3ms/step - loss: 1.2450 - accuracy: 0.4382 - val_loss: 1.2225 - val_accuracy: 0.4513\n",
            "Epoch 11/100\n",
            "41/41 [==============================] - 0s 3ms/step - loss: 1.2243 - accuracy: 0.4459 - val_loss: 1.2139 - val_accuracy: 0.4661\n",
            "Epoch 12/100\n",
            "41/41 [==============================] - 0s 3ms/step - loss: 1.2115 - accuracy: 0.4594 - val_loss: 1.2809 - val_accuracy: 0.4279\n",
            "Epoch 13/100\n",
            "41/41 [==============================] - 0s 3ms/step - loss: 1.1923 - accuracy: 0.4658 - val_loss: 1.2641 - val_accuracy: 0.4370\n",
            "Epoch 14/100\n",
            "41/41 [==============================] - 0s 3ms/step - loss: 1.2125 - accuracy: 0.4483 - val_loss: 1.2262 - val_accuracy: 0.4496\n",
            "Epoch 15/100\n",
            "41/41 [==============================] - 0s 3ms/step - loss: 1.1699 - accuracy: 0.4523 - val_loss: 1.2291 - val_accuracy: 0.4274\n",
            "Epoch 16/100\n",
            "41/41 [==============================] - 0s 3ms/step - loss: 1.1970 - accuracy: 0.4603 - val_loss: 1.2067 - val_accuracy: 0.4598\n",
            "Epoch 17/100\n",
            "41/41 [==============================] - 0s 3ms/step - loss: 1.1836 - accuracy: 0.4636 - val_loss: 1.1817 - val_accuracy: 0.4815\n",
            "Epoch 18/100\n",
            "41/41 [==============================] - 0s 3ms/step - loss: 1.1742 - accuracy: 0.4843 - val_loss: 1.2168 - val_accuracy: 0.4849\n",
            "Epoch 19/100\n",
            "41/41 [==============================] - 0s 3ms/step - loss: 1.1536 - accuracy: 0.4844 - val_loss: 1.1950 - val_accuracy: 0.4581\n",
            "Epoch 20/100\n",
            "41/41 [==============================] - 0s 3ms/step - loss: 1.1470 - accuracy: 0.4891 - val_loss: 1.1637 - val_accuracy: 0.4758\n",
            "Epoch 21/100\n",
            "41/41 [==============================] - 0s 3ms/step - loss: 1.1479 - accuracy: 0.4914 - val_loss: 1.1666 - val_accuracy: 0.4758\n",
            "Epoch 22/100\n",
            "41/41 [==============================] - 0s 3ms/step - loss: 1.1480 - accuracy: 0.4798 - val_loss: 1.1941 - val_accuracy: 0.4764\n",
            "Epoch 23/100\n",
            "41/41 [==============================] - 0s 3ms/step - loss: 1.1259 - accuracy: 0.4907 - val_loss: 1.1604 - val_accuracy: 0.4855\n",
            "Epoch 24/100\n",
            "41/41 [==============================] - 0s 3ms/step - loss: 1.1435 - accuracy: 0.4901 - val_loss: 1.1487 - val_accuracy: 0.5117\n",
            "Epoch 25/100\n",
            "41/41 [==============================] - 0s 3ms/step - loss: 1.1387 - accuracy: 0.4992 - val_loss: 1.1397 - val_accuracy: 0.5083\n",
            "Epoch 26/100\n",
            "41/41 [==============================] - 0s 3ms/step - loss: 1.1372 - accuracy: 0.4930 - val_loss: 1.1487 - val_accuracy: 0.5225\n",
            "Epoch 27/100\n",
            "41/41 [==============================] - 0s 3ms/step - loss: 1.1230 - accuracy: 0.5059 - val_loss: 1.1513 - val_accuracy: 0.5020\n",
            "Epoch 28/100\n",
            "41/41 [==============================] - 0s 3ms/step - loss: 1.1216 - accuracy: 0.5033 - val_loss: 1.1487 - val_accuracy: 0.5060\n",
            "Epoch 29/100\n",
            "41/41 [==============================] - 0s 3ms/step - loss: 1.1286 - accuracy: 0.4921 - val_loss: 1.1683 - val_accuracy: 0.4838\n",
            "Epoch 30/100\n",
            "41/41 [==============================] - 0s 4ms/step - loss: 1.1097 - accuracy: 0.5146 - val_loss: 1.1354 - val_accuracy: 0.5003\n",
            "Epoch 31/100\n",
            "41/41 [==============================] - 0s 3ms/step - loss: 1.0983 - accuracy: 0.5144 - val_loss: 1.2062 - val_accuracy: 0.5185\n",
            "Epoch 32/100\n",
            "41/41 [==============================] - 0s 3ms/step - loss: 1.1450 - accuracy: 0.4960 - val_loss: 1.1842 - val_accuracy: 0.5060\n",
            "Epoch 33/100\n",
            "41/41 [==============================] - 0s 3ms/step - loss: 1.1137 - accuracy: 0.5179 - val_loss: 1.1526 - val_accuracy: 0.5088\n",
            "Epoch 34/100\n",
            "41/41 [==============================] - 0s 3ms/step - loss: 1.0959 - accuracy: 0.5221 - val_loss: 1.2021 - val_accuracy: 0.4501\n",
            "Epoch 35/100\n",
            "41/41 [==============================] - 0s 3ms/step - loss: 1.0922 - accuracy: 0.5058 - val_loss: 1.1253 - val_accuracy: 0.5134\n",
            "Epoch 36/100\n",
            "41/41 [==============================] - 0s 3ms/step - loss: 1.1111 - accuracy: 0.5023 - val_loss: 1.1370 - val_accuracy: 0.5066\n",
            "Epoch 37/100\n",
            "41/41 [==============================] - 0s 3ms/step - loss: 1.1327 - accuracy: 0.4914 - val_loss: 1.1918 - val_accuracy: 0.4764\n",
            "Epoch 38/100\n",
            "41/41 [==============================] - 0s 3ms/step - loss: 1.1123 - accuracy: 0.5228 - val_loss: 1.1368 - val_accuracy: 0.5185\n",
            "Epoch 39/100\n",
            "41/41 [==============================] - 0s 3ms/step - loss: 1.1077 - accuracy: 0.5236 - val_loss: 1.1515 - val_accuracy: 0.5123\n",
            "Epoch 40/100\n",
            "41/41 [==============================] - 0s 3ms/step - loss: 1.1154 - accuracy: 0.5134 - val_loss: 1.1277 - val_accuracy: 0.5060\n",
            "Epoch 41/100\n",
            "41/41 [==============================] - 0s 3ms/step - loss: 1.0722 - accuracy: 0.5378 - val_loss: 1.1474 - val_accuracy: 0.5208\n",
            "Epoch 42/100\n",
            "41/41 [==============================] - 0s 3ms/step - loss: 1.0752 - accuracy: 0.5270 - val_loss: 1.1124 - val_accuracy: 0.5157\n",
            "Epoch 43/100\n",
            "41/41 [==============================] - 0s 3ms/step - loss: 1.0839 - accuracy: 0.5236 - val_loss: 1.1263 - val_accuracy: 0.5003\n",
            "Epoch 44/100\n",
            "41/41 [==============================] - 0s 3ms/step - loss: 1.0779 - accuracy: 0.5377 - val_loss: 1.1402 - val_accuracy: 0.5088\n",
            "Epoch 45/100\n",
            "41/41 [==============================] - 0s 3ms/step - loss: 1.0784 - accuracy: 0.5172 - val_loss: 1.1725 - val_accuracy: 0.5168\n",
            "Epoch 46/100\n",
            "41/41 [==============================] - 0s 3ms/step - loss: 1.0943 - accuracy: 0.5323 - val_loss: 1.1104 - val_accuracy: 0.5168\n",
            "Epoch 47/100\n",
            "41/41 [==============================] - 0s 3ms/step - loss: 1.0818 - accuracy: 0.5346 - val_loss: 1.1992 - val_accuracy: 0.4963\n",
            "Epoch 48/100\n",
            "41/41 [==============================] - 0s 3ms/step - loss: 1.1313 - accuracy: 0.4974 - val_loss: 1.1189 - val_accuracy: 0.5083\n",
            "Epoch 49/100\n",
            "41/41 [==============================] - 0s 3ms/step - loss: 1.0845 - accuracy: 0.5237 - val_loss: 1.1058 - val_accuracy: 0.5191\n",
            "Epoch 50/100\n",
            "41/41 [==============================] - 0s 3ms/step - loss: 1.0803 - accuracy: 0.5151 - val_loss: 1.1183 - val_accuracy: 0.5236\n",
            "Epoch 51/100\n",
            "41/41 [==============================] - 0s 3ms/step - loss: 1.0631 - accuracy: 0.5415 - val_loss: 1.1340 - val_accuracy: 0.5117\n",
            "Epoch 52/100\n",
            "41/41 [==============================] - 0s 3ms/step - loss: 1.0779 - accuracy: 0.5331 - val_loss: 1.1549 - val_accuracy: 0.5197\n",
            "Epoch 53/100\n",
            "41/41 [==============================] - 0s 3ms/step - loss: 1.1122 - accuracy: 0.5050 - val_loss: 1.1392 - val_accuracy: 0.5071\n",
            "Epoch 54/100\n",
            "41/41 [==============================] - 0s 3ms/step - loss: 1.0923 - accuracy: 0.5023 - val_loss: 1.1120 - val_accuracy: 0.5145\n",
            "Epoch 55/100\n",
            "41/41 [==============================] - 0s 3ms/step - loss: 1.0626 - accuracy: 0.5295 - val_loss: 1.1098 - val_accuracy: 0.4974\n",
            "Epoch 56/100\n",
            "41/41 [==============================] - 0s 3ms/step - loss: 1.0478 - accuracy: 0.5413 - val_loss: 1.1305 - val_accuracy: 0.5214\n",
            "Epoch 57/100\n",
            "41/41 [==============================] - 0s 3ms/step - loss: 1.0946 - accuracy: 0.5244 - val_loss: 1.1511 - val_accuracy: 0.5094\n",
            "Epoch 58/100\n",
            "41/41 [==============================] - 0s 3ms/step - loss: 1.0832 - accuracy: 0.5143 - val_loss: 1.1393 - val_accuracy: 0.5037\n",
            "Epoch 59/100\n",
            "41/41 [==============================] - 0s 3ms/step - loss: 1.0457 - accuracy: 0.5382 - val_loss: 1.1490 - val_accuracy: 0.5208\n",
            "Epoch 60/100\n",
            "41/41 [==============================] - 0s 3ms/step - loss: 1.0547 - accuracy: 0.5384 - val_loss: 1.1265 - val_accuracy: 0.5128\n",
            "Epoch 61/100\n",
            "41/41 [==============================] - 0s 3ms/step - loss: 1.0912 - accuracy: 0.5184 - val_loss: 1.1098 - val_accuracy: 0.5111\n",
            "Epoch 62/100\n",
            "41/41 [==============================] - 0s 3ms/step - loss: 1.0680 - accuracy: 0.5264 - val_loss: 1.1189 - val_accuracy: 0.4860\n",
            "Epoch 63/100\n",
            "41/41 [==============================] - 0s 3ms/step - loss: 1.0465 - accuracy: 0.5455 - val_loss: 1.1137 - val_accuracy: 0.4969\n",
            "Epoch 64/100\n",
            "41/41 [==============================] - 0s 3ms/step - loss: 1.0656 - accuracy: 0.5327 - val_loss: 1.1101 - val_accuracy: 0.5020\n",
            "Epoch 65/100\n",
            "41/41 [==============================] - 0s 3ms/step - loss: 1.0730 - accuracy: 0.5262 - val_loss: 1.1682 - val_accuracy: 0.4695\n",
            "Epoch 66/100\n",
            "41/41 [==============================] - 0s 4ms/step - loss: 1.0852 - accuracy: 0.5176 - val_loss: 1.1361 - val_accuracy: 0.4912\n",
            "Epoch 67/100\n",
            "41/41 [==============================] - 0s 3ms/step - loss: 1.0591 - accuracy: 0.5360 - val_loss: 1.1135 - val_accuracy: 0.5242\n",
            "Epoch 68/100\n",
            "41/41 [==============================] - 0s 3ms/step - loss: 1.0689 - accuracy: 0.5300 - val_loss: 1.1185 - val_accuracy: 0.5066\n",
            "Epoch 69/100\n",
            "41/41 [==============================] - 0s 3ms/step - loss: 1.0505 - accuracy: 0.5352 - val_loss: 1.1577 - val_accuracy: 0.4815\n",
            "Epoch 70/100\n",
            "41/41 [==============================] - 0s 3ms/step - loss: 1.0594 - accuracy: 0.5396 - val_loss: 1.1111 - val_accuracy: 0.5048\n",
            "Epoch 71/100\n",
            "41/41 [==============================] - 0s 3ms/step - loss: 1.0654 - accuracy: 0.5326 - val_loss: 1.1245 - val_accuracy: 0.5094\n",
            "Epoch 72/100\n",
            "41/41 [==============================] - 0s 3ms/step - loss: 1.0466 - accuracy: 0.5379 - val_loss: 1.1497 - val_accuracy: 0.5202\n",
            "Epoch 73/100\n",
            "41/41 [==============================] - 0s 3ms/step - loss: 1.0675 - accuracy: 0.5436 - val_loss: 1.1055 - val_accuracy: 0.5145\n",
            "Epoch 74/100\n",
            "41/41 [==============================] - 0s 3ms/step - loss: 1.0557 - accuracy: 0.5410 - val_loss: 1.1571 - val_accuracy: 0.4701\n",
            "Epoch 75/100\n",
            "41/41 [==============================] - 0s 3ms/step - loss: 1.0684 - accuracy: 0.5359 - val_loss: 1.2083 - val_accuracy: 0.4484\n",
            "Epoch 76/100\n",
            "41/41 [==============================] - 0s 3ms/step - loss: 1.0860 - accuracy: 0.5313 - val_loss: 1.0949 - val_accuracy: 0.5191\n",
            "Epoch 77/100\n",
            "41/41 [==============================] - 0s 3ms/step - loss: 1.0660 - accuracy: 0.5305 - val_loss: 1.1069 - val_accuracy: 0.5060\n",
            "Epoch 78/100\n",
            "41/41 [==============================] - 0s 3ms/step - loss: 1.0351 - accuracy: 0.5588 - val_loss: 1.1425 - val_accuracy: 0.4883\n",
            "Epoch 79/100\n",
            "41/41 [==============================] - 0s 3ms/step - loss: 1.0730 - accuracy: 0.5187 - val_loss: 1.1273 - val_accuracy: 0.5140\n",
            "Epoch 80/100\n",
            "41/41 [==============================] - 0s 3ms/step - loss: 1.0434 - accuracy: 0.5356 - val_loss: 1.1156 - val_accuracy: 0.5060\n",
            "Epoch 81/100\n",
            "41/41 [==============================] - 0s 3ms/step - loss: 1.0261 - accuracy: 0.5494 - val_loss: 1.1088 - val_accuracy: 0.5077\n",
            "Epoch 82/100\n",
            "41/41 [==============================] - 0s 3ms/step - loss: 1.0512 - accuracy: 0.5384 - val_loss: 1.1025 - val_accuracy: 0.5009\n",
            "Epoch 83/100\n",
            "41/41 [==============================] - 0s 3ms/step - loss: 1.0450 - accuracy: 0.5554 - val_loss: 1.1539 - val_accuracy: 0.5288\n",
            "Epoch 84/100\n",
            "41/41 [==============================] - 0s 3ms/step - loss: 1.0481 - accuracy: 0.5480 - val_loss: 1.1020 - val_accuracy: 0.5066\n",
            "Epoch 85/100\n",
            "41/41 [==============================] - 0s 3ms/step - loss: 1.0240 - accuracy: 0.5603 - val_loss: 1.1056 - val_accuracy: 0.5020\n",
            "Epoch 86/100\n",
            "41/41 [==============================] - 0s 3ms/step - loss: 1.0541 - accuracy: 0.5310 - val_loss: 1.1108 - val_accuracy: 0.5202\n",
            "Epoch 87/100\n",
            "41/41 [==============================] - 0s 3ms/step - loss: 1.0350 - accuracy: 0.5530 - val_loss: 1.1260 - val_accuracy: 0.4826\n",
            "Epoch 88/100\n",
            "41/41 [==============================] - 0s 3ms/step - loss: 1.0343 - accuracy: 0.5484 - val_loss: 1.1109 - val_accuracy: 0.5100\n",
            "Epoch 89/100\n",
            "41/41 [==============================] - 0s 3ms/step - loss: 1.0248 - accuracy: 0.5418 - val_loss: 1.1055 - val_accuracy: 0.5048\n",
            "Epoch 90/100\n",
            "41/41 [==============================] - 0s 3ms/step - loss: 1.0298 - accuracy: 0.5402 - val_loss: 1.1124 - val_accuracy: 0.4986\n",
            "Epoch 91/100\n",
            "41/41 [==============================] - 0s 3ms/step - loss: 1.0374 - accuracy: 0.5410 - val_loss: 1.1084 - val_accuracy: 0.5031\n",
            "Epoch 92/100\n",
            "41/41 [==============================] - 0s 3ms/step - loss: 1.0612 - accuracy: 0.5351 - val_loss: 1.1225 - val_accuracy: 0.5151\n",
            "Epoch 93/100\n",
            "41/41 [==============================] - 0s 3ms/step - loss: 1.0351 - accuracy: 0.5456 - val_loss: 1.1218 - val_accuracy: 0.5236\n",
            "Epoch 94/100\n",
            "41/41 [==============================] - 0s 3ms/step - loss: 1.0233 - accuracy: 0.5573 - val_loss: 1.1206 - val_accuracy: 0.5231\n",
            "Epoch 95/100\n",
            "41/41 [==============================] - 0s 3ms/step - loss: 1.0506 - accuracy: 0.5371 - val_loss: 1.1927 - val_accuracy: 0.4974\n",
            "Epoch 96/100\n",
            "41/41 [==============================] - 0s 3ms/step - loss: 1.0809 - accuracy: 0.5207 - val_loss: 1.0971 - val_accuracy: 0.5037\n",
            "Epoch 97/100\n",
            "41/41 [==============================] - 0s 3ms/step - loss: 1.0247 - accuracy: 0.5413 - val_loss: 1.1014 - val_accuracy: 0.5214\n",
            "Epoch 98/100\n",
            "41/41 [==============================] - 0s 3ms/step - loss: 1.0559 - accuracy: 0.5364 - val_loss: 1.0945 - val_accuracy: 0.5134\n",
            "Epoch 99/100\n",
            "41/41 [==============================] - 0s 3ms/step - loss: 1.0288 - accuracy: 0.5533 - val_loss: 1.1042 - val_accuracy: 0.5162\n",
            "Epoch 100/100\n",
            "41/41 [==============================] - 0s 3ms/step - loss: 1.0288 - accuracy: 0.5476 - val_loss: 1.1123 - val_accuracy: 0.5088\n"
          ],
          "name": "stdout"
        }
      ]
    },
    {
      "cell_type": "markdown",
      "metadata": {
        "id": "uUhYI89tWrqj"
      },
      "source": [
        "Let's define a function to visualize our loss"
      ]
    },
    {
      "cell_type": "code",
      "metadata": {
        "id": "PJrFlAaDWrqk",
        "outputId": "b9f03cd5-a116-49fe-c9ed-62a4a52adaca",
        "colab": {
          "base_uri": "https://localhost:8080/",
          "height": 281
        }
      },
      "source": [
        "def show_loss(history):\n",
        "    plt.figure()\n",
        "    plt.plot(history.history['val_loss'], label=\"val loss\")\n",
        "    plt.plot(history.history['loss'],label=\"train loss\")\n",
        "    plt.xlabel(\"Epoch\")\n",
        "    plt.ylabel(\"Loss\")\n",
        "    plt.legend()\n",
        "show_loss(history)"
      ],
      "execution_count": 19,
      "outputs": [
        {
          "output_type": "display_data",
          "data": {
            "image/png": "[encoded data removed]",
            "text/plain": [
              "<Figure size 432x288 with 1 Axes>"
            ]
          },
          "metadata": {
            "tags": [],
            "needs_background": "light"
          }
        }
      ]
    },
    {
      "cell_type": "markdown",
      "metadata": {
        "id": "snz80SqYWrqk"
      },
      "source": [
        "It looks like our training loss is more or less monotonically minimized with each epoch (with some fluctuations) while the validation loss seems to be on average higher. The validation loss spikes more severely than the training loss, which is probably due to limited statistics (we only had ~6k samples and took onlt 20% of them for validation - it usually takes LOTS of data to train neural networks well!). The trend discrepancy between training and validation losses could indicate some overfitting in our model. What happens if you increase the percentage of data used for validation? Since it's pretty apparent we're overfitting to our training data, we could introduce some sort of regularization techniques, like L2 regularization (that penalizes large weights) or dropout (that randomly drops neurons in a layer with a set probability). What happens if you introduce some of these methods?"
      ]
    },
    {
      "cell_type": "markdown",
      "metadata": {
        "id": "3BAPnO0PWrql"
      },
      "source": [
        "### Remember that test data we set aside at the beginning?\n",
        "Now it's time to use it to evaluate our model performance!"
      ]
    },
    {
      "cell_type": "code",
      "metadata": {
        "scrolled": true,
        "id": "Ih1XPSgzWrql",
        "outputId": "9e2015d9-b928-4d4b-8480-fd095cf4c9be",
        "colab": {
          "base_uri": "https://localhost:8080/"
        }
      },
      "source": [
        "_, acc = model.evaluate(df_test, df_testLabels, verbose=1)\n",
        "print('Accuracy for test data is',acc)"
      ],
      "execution_count": 20,
      "outputs": [
        {
          "output_type": "stream",
          "text": [
            "21/21 [==============================] - 0s 1ms/step - loss: 1.0892 - accuracy: 0.5369\n",
            "Accuracy for test data is 0.5369230508804321\n"
          ],
          "name": "stdout"
        }
      ]
    },
    {
      "cell_type": "markdown",
      "metadata": {
        "id": "FWUnjtlXWrqm"
      },
      "source": [
        "To plot our results, I just chose the highest probability of the classes and assigned the prediction to a class based on that rounding (highest probability gets a 1, every other class gets a 0). Then, I one-hot decoded the rounded array to get a single number for the class. "
      ]
    },
    {
      "cell_type": "code",
      "metadata": {
        "id": "0OqVA448Wrqm",
        "outputId": "6af6caf2-9b24-469e-e3b6-50bd09add4f3",
        "colab": {
          "base_uri": "https://localhost:8080/",
          "height": 295
        }
      },
      "source": [
        "preds = model.predict(df_test)\n",
        "preds = [i.round() for i in preds]\n",
        "\n",
        "preds = enc.inverse_transform(preds)\n",
        "testLabels = enc.inverse_transform(df_testLabels)\n",
        "cm = confusion_matrix(testLabels, preds)\n",
        "\n",
        "_ =plt.imshow(cm, cmap=plt.cm.Blues)\n",
        "_ = plt.xlabel(\"Predicted labels\")\n",
        "_ = plt.ylabel(\"True labels\")\n",
        "\n",
        "_ =plt.xticks(np.arange(0,len(np.unique(testLabels)),1),np.unique(testLabels))\n",
        "_ =plt.yticks(np.arange(0,len(np.unique(testLabels)),1),np.unique(testLabels))\n",
        "_ =plt.title('Confusion matrix ')\n",
        "_ =plt.colorbar()\n",
        "plt.show()"
      ],
      "execution_count": 21,
      "outputs": [
        {
          "output_type": "display_data",
          "data": {
            "image/png": "[encoded data removed]",
            "text/plain": [
              "<Figure size 432x288 with 2 Axes>"
            ]
          },
          "metadata": {
            "tags": [],
            "needs_background": "light"
          }
        }
      ]
    },
    {
      "cell_type": "markdown",
      "metadata": {
        "id": "YtuigCqrWrqm"
      },
      "source": [
        "It looks like our network is only predicting *some* of our classes. Maybe that's because really good wine (rated 8 and 9) is pretty rare? Let's check it out."
      ]
    },
    {
      "cell_type": "code",
      "metadata": {
        "id": "-GcoLV44Wrqm",
        "outputId": "511a5b09-72a5-4d18-f6a0-cb225d6a624f",
        "colab": {
          "base_uri": "https://localhost:8080/",
          "height": 265
        }
      },
      "source": [
        "_=plt.hist(enc.inverse_transform(labels),label='training labels')\n",
        "_=plt.hist(testLabels,label='test labels')\n",
        "_=plt.yscale('log')\n",
        "_=plt.legend()"
      ],
      "execution_count": 22,
      "outputs": [
        {
          "output_type": "display_data",
          "data": {
            "image/png": "[encoded data removed]",
            "text/plain": [
              "<Figure size 432x288 with 1 Axes>"
            ]
          },
          "metadata": {
            "tags": [],
            "needs_background": "light"
          }
        }
      ]
    },
    {
      "cell_type": "markdown",
      "metadata": {
        "id": "uwfxY3NsWrqm"
      },
      "source": [
        "Yep! Mostly 5s, 6s, and 7s. Only a handful of really good wines (8s and 9s) and really bad wines (3s and 4s). In fact, no scores below a 3! But no perfect 10s either. Overall, I would say that the dataset is imbalanced (mostly ok wines, some bad and some good - a pretty Gaussian distribution) and could benefit from data augmentation techniques like bootstrapping! Maybe you could even generate some more data from randomly sampling a known distribution...But if you train your model on mostly ok wines, then it learns the characteristics of those wines really well. So, when it's faced with a good or bad wine, it's not as sure how to classify it. You can see if this is happening by looking at the network output, which are the probabilities for each class (ie how sure the network is this sample belongs to a certain class)."
      ]
    },
    {
      "cell_type": "markdown",
      "metadata": {
        "id": "wXzcBi7SWrqn"
      },
      "source": [
        "### Overall, \n",
        "our network performs ok with a training, validation, and test accuracy all around 50-60%. What could you change about the network or inputs? How do you think that would affect the model's predictions?"
      ]
    },
    {
      "cell_type": "code",
      "metadata": {
        "id": "EB_s6PIvWrqn"
      },
      "source": [
        ""
      ],
      "execution_count": 22,
      "outputs": []
    }
  ]
}