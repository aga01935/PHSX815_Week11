{
  "nbformat": 4,
  "nbformat_minor": 0,
  "metadata": {
    "kernelspec": {
      "display_name": "Python 3",
      "language": "python",
      "name": "python3"
    },
    "language_info": {
      "codemirror_mode": {
        "name": "ipython",
        "version": 3
      },
      "file_extension": ".py",
      "mimetype": "text/x-python",
      "name": "python",
      "nbconvert_exporter": "python",
      "pygments_lexer": "ipython3",
      "version": "3.7.6"
    },
    "colab": {
      "name": "KerasTutorial.ipynb",
      "provenance": []
    }
  },
  "cells": [
    {
      "cell_type": "markdown",
      "metadata": {
        "id": "YFv3DXqSWrqT"
      },
      "source": [
        "## PHSX 815 Neural Network with Keras tutorial\n",
        "### How can we predict the quality of wine based on its physical characteristics?\n",
        "We will download the `wine_quality` dataset from Tensorflow (the Keras backend) to train a neural network to predict wine quality."
      ]
    },
    {
      "cell_type": "code",
      "metadata": {
        "id": "HjlSS2qLWrqa"
      },
      "source": [
        "import matplotlib.pyplot as plt\n",
        "import seaborn as sns\n",
        "import numpy as np\n",
        "from sklearn.preprocessing import OneHotEncoder, MinMaxScaler\n",
        "from sklearn.metrics import confusion_matrix\n",
        "from sklearn.model_selection import train_test_split\n",
        "import pandas as pd\n",
        "\n",
        "import tensorflow as tf\n",
        "from tensorflow.keras.models import Sequential, Model\n",
        "from tensorflow.keras.layers import *\n",
        "# from tensorflow.keras.optimizers import SGD, Adam\n",
        "# from tensorflow.keras.activations import relu\n",
        "import tensorflow_datasets as tfds\n",
        "from IPython.core.interactiveshell import InteractiveShell\n",
        "InteractiveShell.ast_node_interactivity = \"all\""
      ],
      "execution_count": 145,
      "outputs": []
    },
    {
      "cell_type": "code",
      "metadata": {
        "colab": {
          "base_uri": "https://localhost:8080/"
        },
        "id": "vPVV1xoZWrqb",
        "outputId": "f71e443c-e554-4a7f-a657-39e71e394140"
      },
      "source": [
        "#if you want to load the data as tuples, you can use the as_supervised=True argument\n",
        "data_train = tfds.load('wine_quality',split='train',as_supervised=True)\n",
        "\n",
        "#looking at just one sample of our data\n",
        "pt = data_train.take(1)\n",
        "# type(pt)\n",
        "\n",
        "#can convert this TakeDataset object to a numpy array (can do this for the whole dataset too)\n",
        "print(\"Features and label for first entry\")\n",
        "for features, label in tfds.as_numpy(pt):\n",
        "    print(features,label)\n",
        "\n",
        "#we want to load dataset as a a dictionary of tf.Tensors (can't transform tuples to dataframe)\n",
        "data_train_white = tfds.load('wine_quality/white',split='train')\n",
        "data_train_red = tfds.load('wine_quality/red',split='train')\n",
        "\n",
        "#transform dictionary to dataframe - combining red and white wine\n",
        "df_white = tfds.as_dataframe(data_train_white)\n",
        "df_red = tfds.as_dataframe(data_train_red)\n",
        "df = pd.concat([df_white,df_red])\n",
        "\n",
        "print('number of samples',len(df['quality']))\n",
        "\n",
        "#what are our output possibilities?\n",
        "print('possible wine quality ratings',df['quality'].unique())"
      ],
      "execution_count": 146,
      "outputs": [
        {
          "output_type": "stream",
          "text": [
            "Features and label for first entry\n",
            "{'alcohol': 9.0, 'chlorides': 0.054, 'citric acid': 0.34, 'density': 1.0008, 'fixed acidity': 7.6, 'free sulfur dioxide': 44.0, 'pH': 3.22, 'residual sugar': 18.35, 'sulphates': 0.550000011920929, 'total sulfur dioxide': 197.0, 'volatile acidity': 0.32} 5\n",
            "number of samples 6497\n",
            "possible wine quality ratings [5 6 4 8 7 3 9]\n"
          ],
          "name": "stdout"
        }
      ]
    },
    {
      "cell_type": "code",
      "metadata": {
        "colab": {
          "base_uri": "https://localhost:8080/"
        },
        "id": "oCmygk1AWrqc",
        "outputId": "3866b06c-4e05-4d7a-b2c5-5dd6e062cc75"
      },
      "source": [
        "#do we have any missing data (empty or NaN entries in features or labels)?\n",
        "dataNans = df.isnull().values.any()\n",
        "if not dataNans:\n",
        "    print(\"all good!\")"
      ],
      "execution_count": 147,
      "outputs": [
        {
          "output_type": "stream",
          "text": [
            "all good!\n"
          ],
          "name": "stdout"
        }
      ]
    },
    {
      "cell_type": "markdown",
      "metadata": {
        "id": "F76JfSayWrqd"
      },
      "source": [
        "### Preprocessing our labels\n",
        "Although this may seem like a regression task for a neural network because we are predicting a number (wine quality), the labels are actually *categorical* not *continuous*. If you look at the labels, you see that they are integer values between 5 and 9. Because this is a classification problem, we need to one-hot encode our labels. This means taking our possible outcomes and turning them into arrays of a 1 and 0's. The index of the 1 in the array will tell us which class is which. So, for example, 5 becomes [1,0,0,0,0], 6 becomes [0,1,0,0,0] and so on. We can use a function from sklearn to do this automatically."
      ]
    },
    {
      "cell_type": "markdown",
      "metadata": {
        "id": "a6RQW2BFWrqd"
      },
      "source": [
        "this dataset unfortunately only gives us training data - but we can set aside a portion for testing our network on. in practice, you don't want to test your network on data it has already seen (is it really a prediction if you use your model on data it was fitted to?) but, for educational purposes, we can ~randomly sample our data and call it ~iid.\n",
        "Here, I combine the red and white wine datasets for increased statistics. What happens if you train networks on these datasets separately? Or what happens if you use one dataset to train and one to test?"
      ]
    },
    {
      "cell_type": "code",
      "metadata": {
        "colab": {
          "base_uri": "https://localhost:8080/",
          "height": 266
        },
        "id": "3mm5HHy2Wrqd",
        "outputId": "a286f6eb-61c2-4f73-eb93-24b537374451"
      },
      "source": [
        "#it's helpful to separate our input features from our target features (quality) \n",
        "#so we can later only transform our inputs without changing our labels\n",
        "labels = df['quality']\n",
        "df = df.drop(labels='quality',axis=1)\n",
        "labels.unique()\n",
        "\n",
        "enc = OneHotEncoder(sparse=False)\n",
        "labels = enc.fit_transform(labels.to_numpy().reshape(-1,1))\n",
        "\n",
        "#make our test data\n",
        "df_train, df_test, labels_train, df_testLabels = train_test_split(df,labels,test_size=0.1)\n",
        "\n",
        "#look at the first 5 entries\n",
        "df_train.head()"
      ],
      "execution_count": 148,
      "outputs": [
        {
          "output_type": "execute_result",
          "data": {
            "text/plain": [
              "array([5, 6, 4, 8, 7, 3, 9])"
            ]
          },
          "metadata": {
            "tags": []
          },
          "execution_count": 148
        },
        {
          "output_type": "execute_result",
          "data": {
            "text/html": [
              "<div>\n",
              "<style scoped>\n",
              "    .dataframe tbody tr th:only-of-type {\n",
              "        vertical-align: middle;\n",
              "    }\n",
              "\n",
              "    .dataframe tbody tr th {\n",
              "        vertical-align: top;\n",
              "    }\n",
              "\n",
              "    .dataframe thead th {\n",
              "        text-align: right;\n",
              "    }\n",
              "</style>\n",
              "<table border=\"1\" class=\"dataframe\">\n",
              "  <thead>\n",
              "    <tr style=\"text-align: right;\">\n",
              "      <th></th>\n",
              "      <th>features/alcohol</th>\n",
              "      <th>features/chlorides</th>\n",
              "      <th>features/citric acid</th>\n",
              "      <th>features/density</th>\n",
              "      <th>features/fixed acidity</th>\n",
              "      <th>features/free sulfur dioxide</th>\n",
              "      <th>features/pH</th>\n",
              "      <th>features/residual sugar</th>\n",
              "      <th>features/sulphates</th>\n",
              "      <th>features/total sulfur dioxide</th>\n",
              "      <th>features/volatile acidity</th>\n",
              "    </tr>\n",
              "  </thead>\n",
              "  <tbody>\n",
              "    <tr>\n",
              "      <th>3257</th>\n",
              "      <td>9.5</td>\n",
              "      <td>0.045</td>\n",
              "      <td>0.42</td>\n",
              "      <td>0.99544</td>\n",
              "      <td>6.3</td>\n",
              "      <td>62.0</td>\n",
              "      <td>3.20</td>\n",
              "      <td>7.1</td>\n",
              "      <td>0.53</td>\n",
              "      <td>209.0</td>\n",
              "      <td>0.260</td>\n",
              "    </tr>\n",
              "    <tr>\n",
              "      <th>1674</th>\n",
              "      <td>9.6</td>\n",
              "      <td>0.046</td>\n",
              "      <td>0.38</td>\n",
              "      <td>0.99662</td>\n",
              "      <td>6.7</td>\n",
              "      <td>26.0</td>\n",
              "      <td>3.32</td>\n",
              "      <td>7.5</td>\n",
              "      <td>0.54</td>\n",
              "      <td>175.0</td>\n",
              "      <td>0.500</td>\n",
              "    </tr>\n",
              "    <tr>\n",
              "      <th>975</th>\n",
              "      <td>11.0</td>\n",
              "      <td>0.030</td>\n",
              "      <td>0.34</td>\n",
              "      <td>0.99200</td>\n",
              "      <td>7.4</td>\n",
              "      <td>30.0</td>\n",
              "      <td>2.97</td>\n",
              "      <td>2.7</td>\n",
              "      <td>0.53</td>\n",
              "      <td>107.0</td>\n",
              "      <td>0.180</td>\n",
              "    </tr>\n",
              "    <tr>\n",
              "      <th>674</th>\n",
              "      <td>11.9</td>\n",
              "      <td>0.031</td>\n",
              "      <td>0.04</td>\n",
              "      <td>0.99060</td>\n",
              "      <td>6.6</td>\n",
              "      <td>48.0</td>\n",
              "      <td>3.14</td>\n",
              "      <td>2.5</td>\n",
              "      <td>0.32</td>\n",
              "      <td>111.0</td>\n",
              "      <td>0.545</td>\n",
              "    </tr>\n",
              "    <tr>\n",
              "      <th>395</th>\n",
              "      <td>10.4</td>\n",
              "      <td>0.075</td>\n",
              "      <td>0.49</td>\n",
              "      <td>0.99690</td>\n",
              "      <td>12.2</td>\n",
              "      <td>3.0</td>\n",
              "      <td>3.13</td>\n",
              "      <td>1.4</td>\n",
              "      <td>0.63</td>\n",
              "      <td>6.0</td>\n",
              "      <td>0.450</td>\n",
              "    </tr>\n",
              "  </tbody>\n",
              "</table>\n",
              "</div>"
            ],
            "text/plain": [
              "      features/alcohol  ...  features/volatile acidity\n",
              "3257               9.5  ...                      0.260\n",
              "1674               9.6  ...                      0.500\n",
              "975               11.0  ...                      0.180\n",
              "674               11.9  ...                      0.545\n",
              "395               10.4  ...                      0.450\n",
              "\n",
              "[5 rows x 11 columns]"
            ]
          },
          "metadata": {
            "tags": []
          },
          "execution_count": 148
        }
      ]
    },
    {
      "cell_type": "markdown",
      "metadata": {
        "id": "11ct2Xz_Wrqe"
      },
      "source": [
        "### some questions to consider:\n",
        "- how was this data obtained? what goes into engineering the features? what does \"quality\" mean?\n",
        "\n",
        "- data was obtained from standard tenserflow library. \n",
        "- do you have to normalize your features?\n",
        "- are there any correlations among features? is this expected? how can we encode this information to the NN or decouple these features?\n",
        "- what does the data look like?\n",
        "- do we have any missing or NaN entries?"
      ]
    },
    {
      "cell_type": "markdown",
      "metadata": {
        "id": "gxZJSKbfWrqe"
      },
      "source": [
        "let's examine the data to see what kinds of transformations we need to make for preprocessing"
      ]
    },
    {
      "cell_type": "code",
      "metadata": {
        "colab": {
          "base_uri": "https://localhost:8080/",
          "height": 338
        },
        "id": "NHoK8BKgWrqe",
        "outputId": "04eedd89-e78f-4944-9b82-db4b995836e1"
      },
      "source": [
        "df_train.describe()"
      ],
      "execution_count": 149,
      "outputs": [
        {
          "output_type": "execute_result",
          "data": {
            "text/html": [
              "<div>\n",
              "<style scoped>\n",
              "    .dataframe tbody tr th:only-of-type {\n",
              "        vertical-align: middle;\n",
              "    }\n",
              "\n",
              "    .dataframe tbody tr th {\n",
              "        vertical-align: top;\n",
              "    }\n",
              "\n",
              "    .dataframe thead th {\n",
              "        text-align: right;\n",
              "    }\n",
              "</style>\n",
              "<table border=\"1\" class=\"dataframe\">\n",
              "  <thead>\n",
              "    <tr style=\"text-align: right;\">\n",
              "      <th></th>\n",
              "      <th>features/alcohol</th>\n",
              "      <th>features/chlorides</th>\n",
              "      <th>features/citric acid</th>\n",
              "      <th>features/density</th>\n",
              "      <th>features/fixed acidity</th>\n",
              "      <th>features/free sulfur dioxide</th>\n",
              "      <th>features/pH</th>\n",
              "      <th>features/residual sugar</th>\n",
              "      <th>features/sulphates</th>\n",
              "      <th>features/total sulfur dioxide</th>\n",
              "      <th>features/volatile acidity</th>\n",
              "    </tr>\n",
              "  </thead>\n",
              "  <tbody>\n",
              "    <tr>\n",
              "      <th>count</th>\n",
              "      <td>5847.00000</td>\n",
              "      <td>5847.000000</td>\n",
              "      <td>5847.000000</td>\n",
              "      <td>5847.000000</td>\n",
              "      <td>5847.000000</td>\n",
              "      <td>5847.000000</td>\n",
              "      <td>5847.000000</td>\n",
              "      <td>5847.000000</td>\n",
              "      <td>5847.000000</td>\n",
              "      <td>5847.000000</td>\n",
              "      <td>5847.000000</td>\n",
              "    </tr>\n",
              "    <tr>\n",
              "      <th>mean</th>\n",
              "      <td>10.50043</td>\n",
              "      <td>0.055713</td>\n",
              "      <td>0.318563</td>\n",
              "      <td>0.994679</td>\n",
              "      <td>7.211425</td>\n",
              "      <td>30.456730</td>\n",
              "      <td>3.219333</td>\n",
              "      <td>5.416453</td>\n",
              "      <td>0.531712</td>\n",
              "      <td>115.448179</td>\n",
              "      <td>0.338915</td>\n",
              "    </tr>\n",
              "    <tr>\n",
              "      <th>std</th>\n",
              "      <td>1.19275</td>\n",
              "      <td>0.034091</td>\n",
              "      <td>0.145528</td>\n",
              "      <td>0.003011</td>\n",
              "      <td>1.294407</td>\n",
              "      <td>17.665519</td>\n",
              "      <td>0.161385</td>\n",
              "      <td>4.756557</td>\n",
              "      <td>0.149642</td>\n",
              "      <td>56.409363</td>\n",
              "      <td>0.164558</td>\n",
              "    </tr>\n",
              "    <tr>\n",
              "      <th>min</th>\n",
              "      <td>8.00000</td>\n",
              "      <td>0.009000</td>\n",
              "      <td>0.000000</td>\n",
              "      <td>0.987110</td>\n",
              "      <td>3.800000</td>\n",
              "      <td>1.000000</td>\n",
              "      <td>2.720000</td>\n",
              "      <td>0.600000</td>\n",
              "      <td>0.220000</td>\n",
              "      <td>6.000000</td>\n",
              "      <td>0.080000</td>\n",
              "    </tr>\n",
              "    <tr>\n",
              "      <th>25%</th>\n",
              "      <td>9.50000</td>\n",
              "      <td>0.038000</td>\n",
              "      <td>0.250000</td>\n",
              "      <td>0.992300</td>\n",
              "      <td>6.400000</td>\n",
              "      <td>17.000000</td>\n",
              "      <td>3.110000</td>\n",
              "      <td>1.800000</td>\n",
              "      <td>0.430000</td>\n",
              "      <td>77.000000</td>\n",
              "      <td>0.230000</td>\n",
              "    </tr>\n",
              "    <tr>\n",
              "      <th>50%</th>\n",
              "      <td>10.30000</td>\n",
              "      <td>0.047000</td>\n",
              "      <td>0.310000</td>\n",
              "      <td>0.994800</td>\n",
              "      <td>7.000000</td>\n",
              "      <td>29.000000</td>\n",
              "      <td>3.210000</td>\n",
              "      <td>3.000000</td>\n",
              "      <td>0.510000</td>\n",
              "      <td>118.000000</td>\n",
              "      <td>0.290000</td>\n",
              "    </tr>\n",
              "    <tr>\n",
              "      <th>75%</th>\n",
              "      <td>11.30000</td>\n",
              "      <td>0.065000</td>\n",
              "      <td>0.390000</td>\n",
              "      <td>0.996920</td>\n",
              "      <td>7.700000</td>\n",
              "      <td>41.000000</td>\n",
              "      <td>3.320000</td>\n",
              "      <td>8.000000</td>\n",
              "      <td>0.600000</td>\n",
              "      <td>155.000000</td>\n",
              "      <td>0.400000</td>\n",
              "    </tr>\n",
              "    <tr>\n",
              "      <th>max</th>\n",
              "      <td>14.90000</td>\n",
              "      <td>0.610000</td>\n",
              "      <td>1.660000</td>\n",
              "      <td>1.038980</td>\n",
              "      <td>15.900000</td>\n",
              "      <td>289.000000</td>\n",
              "      <td>4.010000</td>\n",
              "      <td>65.800003</td>\n",
              "      <td>2.000000</td>\n",
              "      <td>440.000000</td>\n",
              "      <td>1.580000</td>\n",
              "    </tr>\n",
              "  </tbody>\n",
              "</table>\n",
              "</div>"
            ],
            "text/plain": [
              "       features/alcohol  ...  features/volatile acidity\n",
              "count        5847.00000  ...                5847.000000\n",
              "mean           10.50043  ...                   0.338915\n",
              "std             1.19275  ...                   0.164558\n",
              "min             8.00000  ...                   0.080000\n",
              "25%             9.50000  ...                   0.230000\n",
              "50%            10.30000  ...                   0.290000\n",
              "75%            11.30000  ...                   0.400000\n",
              "max            14.90000  ...                   1.580000\n",
              "\n",
              "[8 rows x 11 columns]"
            ]
          },
          "metadata": {
            "tags": []
          },
          "execution_count": 149
        }
      ]
    },
    {
      "cell_type": "markdown",
      "metadata": {
        "id": "oxwEloavWrqf"
      },
      "source": [
        "### Visualizing data\n",
        "If you want a cool and easy way to visualize not only the features, but also the correlations between features, you can use the following seaborn function, which will display the individual features on the diagonal of the subplots and the correlations between features\n",
        "\n",
        "`pl = sns.pairplot(df[df.columns], diag_kind='kde')`"
      ]
    },
    {
      "cell_type": "code",
      "metadata": {
        "colab": {
          "base_uri": "https://localhost:8080/",
          "height": 1000
        },
        "id": "Rq7cPKUHWrqf",
        "outputId": "9477d4c3-77eb-40ed-b492-d2b7a2d89e6d"
      },
      "source": [
        "#visualizing our input features\n",
        "nFeatures = len(df_train.columns)\n",
        "nCols = 3\n",
        "nRows = int(np.ceil(nFeatures/nCols))\n",
        "cols = df_train.columns\n",
        "fig, axs = plt.subplots(nRows,nCols,figsize=(15,20))\n",
        "# for i, ax in enumerate(axs)\n",
        "col = 0\n",
        "for i in range(nRows):\n",
        "    for j in range(nCols):\n",
        "        if col >= nFeatures:\n",
        "            break\n",
        "        h = axs[i,j].hist(df[cols[col]])\n",
        "        h = axs[i,j].set_title(cols[col])\n",
        "        col += 1"
      ],
      "execution_count": 150,
      "outputs": [
        {
          "output_type": "display_data",
          "data": {
            "image/png": "[encoded data removed]",
            "text/plain": [
              "<Figure size 1080x1440 with 12 Axes>"
            ]
          },
          "metadata": {
            "tags": [],
            "needs_background": "light"
          }
        }
      ]
    },
    {
      "cell_type": "markdown",
      "metadata": {
        "id": "VpuTODaHWrqg"
      },
      "source": [
        "It looks like there are two types of sulfur dioxide features: total sulfur dioxide and free sulfur dioxide. I'm not entirely sure what sulfur dioxide is (I am neither a chemist nor a sommelier) so I'm curious if there is a correlation between these features. "
      ]
    },
    {
      "cell_type": "code",
      "metadata": {
        "colab": {
          "base_uri": "https://localhost:8080/",
          "height": 282
        },
        "id": "fhePXSNgWrqg",
        "outputId": "4d862bca-aaa0-47f2-a882-3aeb3d49f574"
      },
      "source": [
        "plt.scatter(df_train['features/free sulfur dioxide'],df_train['features/total sulfur dioxide'])"
      ],
      "execution_count": 151,
      "outputs": [
        {
          "output_type": "execute_result",
          "data": {
            "text/plain": [
              "<matplotlib.collections.PathCollection at 0x7fa01b8a7210>"
            ]
          },
          "metadata": {
            "tags": []
          },
          "execution_count": 151
        },
        {
          "output_type": "display_data",
          "data": {
            "image/png": "[encoded data removed]",
            "text/plain": [
              "<Figure size 432x288 with 1 Axes>"
            ]
          },
          "metadata": {
            "tags": [],
            "needs_background": "light"
          }
        }
      ]
    },
    {
      "cell_type": "markdown",
      "metadata": {
        "id": "uaAd7sqGWrqg"
      },
      "source": [
        "It looks like there is some correlation between these features. If I had to guess, I would say \"free sulfur dioxide\" is a subset of \"total sulfur dioxide\" but I'm not sure how or even if either of these features would affect the wine quality. This is where domain specific knowledge would be helpful! Since I have a degree in physics and not wine studies (contrary to what my weekend activities may imply) I am going to see what happens when we include both of these features in our network."
      ]
    },
    {
      "cell_type": "markdown",
      "metadata": {
        "id": "8qkTSvXzWrqh"
      },
      "source": [
        "This was just a cursory look at our data. In reality, data scientists will spend most of their time feature engineering, fixing incomplete datasets, cleaning data, etc. Feel free to do more exploratory analysis on the data before you pass it through to a network!"
      ]
    },
    {
      "cell_type": "markdown",
      "metadata": {
        "id": "9Cqq8LrFWrqh"
      },
      "source": [
        "## Let's build our network!\n",
        "We want to build a simple DNN to essentially perform a categorization. Let's start with something simple: only a couple hidden layers and a handful of neurons. Of course, in accordance with the Universal Approximation Theorem, any function can be approximated arbitrarily well with an arbitrarily large number of layers (Lu et. al. 2017) or arbitrarily large number of neurons (Cybenko 1989). Does the network perform better or worse with an increase in layers or neurons?"
      ]
    },
    {
      "cell_type": "code",
      "metadata": {
        "colab": {
          "base_uri": "https://localhost:8080/"
        },
        "id": "m81g_3e9Wrqh",
        "outputId": "1c830e79-4ff4-4025-9518-6bbb17c17ae4"
      },
      "source": [
        "cols = df_train.columns\n",
        "nClasses = len(labels_train[0])\n",
        "\n",
        "#using Keras's Sequential model - https://keras.io/api/models/sequential/\n",
        "model = Sequential()\n",
        "#add input layer\n",
        "model.add(Input(shape=(len(cols),))) #the input layer shape should match the number of features we have\n",
        "#add first layer of fully connected neurons\n",
        "model.add(Dense(128,activation='relu'))\n",
        "#add second layer (first hidden layer)\n",
        "model.add(Dense(128,activation='relu'))\n",
        "#and one more because why not\n",
        "model.add(Dense(128,activation='relu'))\n",
        "#added extra layer now\n",
        "model.add(Dense(128,activation='relu'))\n",
        "\n",
        "#finally, our output layer should have only one neuron because we are trying to predict only one number\n",
        "#notice how there is a different activation function in this layer\n",
        "#this is because we want our outputs for each class to be a probability\n",
        "model.add(Dense(nClasses,activation='softmax'))\n",
        "\n",
        "#compile our model - set our loss metric (categorical cross entropy) and optimizer (stochastic gradient descent)\n",
        "#how does the model performance change with different optimizers (ie AdaGrad, SGD, etc.)?\n",
        "model.compile(loss='CategoricalCrossentropy',optimizer='Adam',metrics=['accuracy'])\n",
        "\n",
        "#let's see a summary of our model\n",
        "model.summary()"
      ],
      "execution_count": 152,
      "outputs": [
        {
          "output_type": "stream",
          "text": [
            "Model: \"sequential_11\"\n",
            "_________________________________________________________________\n",
            "Layer (type)                 Output Shape              Param #   \n",
            "=================================================================\n",
            "dense_48 (Dense)             (None, 128)               1536      \n",
            "_________________________________________________________________\n",
            "dense_49 (Dense)             (None, 128)               16512     \n",
            "_________________________________________________________________\n",
            "dense_50 (Dense)             (None, 128)               16512     \n",
            "_________________________________________________________________\n",
            "dense_51 (Dense)             (None, 128)               16512     \n",
            "_________________________________________________________________\n",
            "dense_52 (Dense)             (None, 7)                 903       \n",
            "=================================================================\n",
            "Total params: 51,975\n",
            "Trainable params: 51,975\n",
            "Non-trainable params: 0\n",
            "_________________________________________________________________\n"
          ],
          "name": "stdout"
        }
      ]
    },
    {
      "cell_type": "markdown",
      "metadata": {
        "id": "BglMPkOxWrqh"
      },
      "source": [
        "As shown above, we have a network with four layers, 128 neurons/layer, for a total of ~50k trainable parameters (remember: parameters are the biases and weights that the network learns). Imagine how many parameters a large, complex network at Google has!"
      ]
    },
    {
      "cell_type": "markdown",
      "metadata": {
        "id": "FJwh6ujMWrqi"
      },
      "source": [
        "### the same model can be built using the generic Model class and slightly different syntax\n",
        "`\n",
        "inputs = tf.keras.Input(shape=(len(cols),))\n",
        "outputs_L1 = Dense(64, activation='relu')(inputs)\n",
        "outputs_L2 = Dense(64, activation='relu')(outputs_L1)\n",
        "outputs_L3 = Dense(64, activation='relu')(outputs_L2)\n",
        "pred = Dense(1)(outputs_L3)\n",
        "model = Model(inputs=inputs,outputs=pred)\n",
        "`"
      ]
    },
    {
      "cell_type": "markdown",
      "metadata": {
        "id": "qYv1LwwsWrqi"
      },
      "source": [
        "### Training our model\n",
        "\n",
        "Let's give our model all the input features (df), the corresponding labels (labels)\n",
        "\n",
        "There is a 20% validation split, which means that 80% of our data will be used to train the model parameters\n",
        "while 20% of it will be saved to \"check\" our answers. This is data that the model has not seen (been trained on) so the performance on the validation data should give us an idea of if the model is over- or underfitting.\n",
        "\n",
        "We will train for 100 epochs, which means that the entire dataset will be passed through the whole network 100 times. Our batch size is 20, meaning that 20 samples at a time are passed to the network before the parameters are updated. The `shuffle` argument ensures that our data is shuffled before the beginning of each epoch to reduce spurious learned correlations. What happens if you let the model run for more epochs?\n"
      ]
    },
    {
      "cell_type": "code",
      "metadata": {
        "colab": {
          "base_uri": "https://localhost:8080/"
        },
        "id": "x2J8JcEaWrqj",
        "outputId": "17d75da0-8602-43e3-beeb-095632f91aaa"
      },
      "source": [
        "history = model.fit(df_train, labels_train, validation_split=0.5, verbose=1, epochs=100, batch_size=40, shuffle=True)"
      ],
      "execution_count": 153,
      "outputs": [
        {
          "output_type": "stream",
          "text": [
            "Epoch 1/100\n",
            "74/74 [==============================] - 1s 6ms/step - loss: 1.7664 - accuracy: 0.3720 - val_loss: 1.3009 - val_accuracy: 0.4326\n",
            "Epoch 2/100\n",
            "74/74 [==============================] - 0s 3ms/step - loss: 1.2315 - accuracy: 0.4490 - val_loss: 1.3964 - val_accuracy: 0.4360\n",
            "Epoch 3/100\n",
            "74/74 [==============================] - 0s 4ms/step - loss: 1.3139 - accuracy: 0.3947 - val_loss: 1.3061 - val_accuracy: 0.4371\n",
            "Epoch 4/100\n",
            "74/74 [==============================] - 0s 3ms/step - loss: 1.1937 - accuracy: 0.4551 - val_loss: 1.2982 - val_accuracy: 0.4248\n",
            "Epoch 5/100\n",
            "74/74 [==============================] - 0s 4ms/step - loss: 1.2758 - accuracy: 0.4236 - val_loss: 1.2707 - val_accuracy: 0.4337\n",
            "Epoch 6/100\n",
            "74/74 [==============================] - 0s 3ms/step - loss: 1.2501 - accuracy: 0.4326 - val_loss: 1.2665 - val_accuracy: 0.4514\n",
            "Epoch 7/100\n",
            "74/74 [==============================] - 0s 3ms/step - loss: 1.1898 - accuracy: 0.4548 - val_loss: 1.2572 - val_accuracy: 0.4378\n",
            "Epoch 8/100\n",
            "74/74 [==============================] - 0s 4ms/step - loss: 1.2090 - accuracy: 0.4592 - val_loss: 1.2742 - val_accuracy: 0.4685\n",
            "Epoch 9/100\n",
            "74/74 [==============================] - 0s 3ms/step - loss: 1.2069 - accuracy: 0.4589 - val_loss: 1.2968 - val_accuracy: 0.4480\n",
            "Epoch 10/100\n",
            "74/74 [==============================] - 0s 4ms/step - loss: 1.1961 - accuracy: 0.4599 - val_loss: 1.2725 - val_accuracy: 0.4596\n",
            "Epoch 11/100\n",
            "74/74 [==============================] - 0s 4ms/step - loss: 1.1891 - accuracy: 0.4580 - val_loss: 1.2146 - val_accuracy: 0.4672\n",
            "Epoch 12/100\n",
            "74/74 [==============================] - 0s 4ms/step - loss: 1.1717 - accuracy: 0.4764 - val_loss: 1.1934 - val_accuracy: 0.4716\n",
            "Epoch 13/100\n",
            "74/74 [==============================] - 0s 3ms/step - loss: 1.1395 - accuracy: 0.4819 - val_loss: 1.1951 - val_accuracy: 0.4880\n",
            "Epoch 14/100\n",
            "74/74 [==============================] - 0s 3ms/step - loss: 1.1184 - accuracy: 0.5048 - val_loss: 1.1978 - val_accuracy: 0.4668\n",
            "Epoch 15/100\n",
            "74/74 [==============================] - 0s 3ms/step - loss: 1.1704 - accuracy: 0.4821 - val_loss: 1.1875 - val_accuracy: 0.4993\n",
            "Epoch 16/100\n",
            "74/74 [==============================] - 0s 4ms/step - loss: 1.1368 - accuracy: 0.4899 - val_loss: 1.2754 - val_accuracy: 0.4607\n",
            "Epoch 17/100\n",
            "74/74 [==============================] - 0s 3ms/step - loss: 1.1176 - accuracy: 0.5070 - val_loss: 1.1621 - val_accuracy: 0.4771\n",
            "Epoch 18/100\n",
            "74/74 [==============================] - 0s 3ms/step - loss: 1.1166 - accuracy: 0.4896 - val_loss: 1.1710 - val_accuracy: 0.4802\n",
            "Epoch 19/100\n",
            "74/74 [==============================] - 0s 3ms/step - loss: 1.1814 - accuracy: 0.4834 - val_loss: 1.1680 - val_accuracy: 0.5085\n",
            "Epoch 20/100\n",
            "74/74 [==============================] - 0s 3ms/step - loss: 1.1135 - accuracy: 0.5237 - val_loss: 1.1465 - val_accuracy: 0.5048\n",
            "Epoch 21/100\n",
            "74/74 [==============================] - 0s 3ms/step - loss: 1.1067 - accuracy: 0.4882 - val_loss: 1.1965 - val_accuracy: 0.4942\n",
            "Epoch 22/100\n",
            "74/74 [==============================] - 0s 3ms/step - loss: 1.1167 - accuracy: 0.4868 - val_loss: 1.1388 - val_accuracy: 0.5051\n",
            "Epoch 23/100\n",
            "74/74 [==============================] - 0s 3ms/step - loss: 1.1064 - accuracy: 0.5038 - val_loss: 1.1621 - val_accuracy: 0.4949\n",
            "Epoch 24/100\n",
            "74/74 [==============================] - 0s 3ms/step - loss: 1.1032 - accuracy: 0.5147 - val_loss: 1.1656 - val_accuracy: 0.4897\n",
            "Epoch 25/100\n",
            "74/74 [==============================] - 0s 3ms/step - loss: 1.0582 - accuracy: 0.5330 - val_loss: 1.2712 - val_accuracy: 0.4200\n",
            "Epoch 26/100\n",
            "74/74 [==============================] - 0s 3ms/step - loss: 1.1351 - accuracy: 0.4732 - val_loss: 1.1650 - val_accuracy: 0.5024\n",
            "Epoch 27/100\n",
            "74/74 [==============================] - 0s 4ms/step - loss: 1.0889 - accuracy: 0.5302 - val_loss: 1.1761 - val_accuracy: 0.4966\n",
            "Epoch 28/100\n",
            "74/74 [==============================] - 0s 3ms/step - loss: 1.0673 - accuracy: 0.5194 - val_loss: 1.1325 - val_accuracy: 0.5205\n",
            "Epoch 29/100\n",
            "74/74 [==============================] - 0s 3ms/step - loss: 1.0699 - accuracy: 0.5191 - val_loss: 1.1589 - val_accuracy: 0.4863\n",
            "Epoch 30/100\n",
            "74/74 [==============================] - 0s 3ms/step - loss: 1.0944 - accuracy: 0.5081 - val_loss: 1.1281 - val_accuracy: 0.5188\n",
            "Epoch 31/100\n",
            "74/74 [==============================] - 0s 3ms/step - loss: 1.0964 - accuracy: 0.5084 - val_loss: 1.1565 - val_accuracy: 0.5127\n",
            "Epoch 32/100\n",
            "74/74 [==============================] - 0s 3ms/step - loss: 1.0726 - accuracy: 0.5391 - val_loss: 1.1452 - val_accuracy: 0.5120\n",
            "Epoch 33/100\n",
            "74/74 [==============================] - 0s 3ms/step - loss: 1.0736 - accuracy: 0.5312 - val_loss: 1.1057 - val_accuracy: 0.5229\n",
            "Epoch 34/100\n",
            "74/74 [==============================] - 0s 3ms/step - loss: 1.0368 - accuracy: 0.5432 - val_loss: 1.1286 - val_accuracy: 0.5192\n",
            "Epoch 35/100\n",
            "74/74 [==============================] - 0s 3ms/step - loss: 1.0469 - accuracy: 0.5402 - val_loss: 1.1144 - val_accuracy: 0.5120\n",
            "Epoch 36/100\n",
            "74/74 [==============================] - 0s 3ms/step - loss: 1.0645 - accuracy: 0.5052 - val_loss: 1.2066 - val_accuracy: 0.4603\n",
            "Epoch 37/100\n",
            "74/74 [==============================] - 0s 4ms/step - loss: 1.1070 - accuracy: 0.4699 - val_loss: 1.1528 - val_accuracy: 0.5133\n",
            "Epoch 38/100\n",
            "74/74 [==============================] - 0s 3ms/step - loss: 1.0849 - accuracy: 0.4963 - val_loss: 1.1653 - val_accuracy: 0.4942\n",
            "Epoch 39/100\n",
            "74/74 [==============================] - 0s 4ms/step - loss: 1.0392 - accuracy: 0.5273 - val_loss: 1.1624 - val_accuracy: 0.4894\n",
            "Epoch 40/100\n",
            "74/74 [==============================] - 0s 4ms/step - loss: 1.0270 - accuracy: 0.5359 - val_loss: 1.1221 - val_accuracy: 0.5250\n",
            "Epoch 41/100\n",
            "74/74 [==============================] - 0s 3ms/step - loss: 1.0469 - accuracy: 0.5299 - val_loss: 1.1958 - val_accuracy: 0.4891\n",
            "Epoch 42/100\n",
            "74/74 [==============================] - 0s 4ms/step - loss: 1.0451 - accuracy: 0.5232 - val_loss: 1.1566 - val_accuracy: 0.4884\n",
            "Epoch 43/100\n",
            "74/74 [==============================] - 0s 3ms/step - loss: 1.0524 - accuracy: 0.5207 - val_loss: 1.1232 - val_accuracy: 0.5304\n",
            "Epoch 44/100\n",
            "74/74 [==============================] - 0s 3ms/step - loss: 1.0265 - accuracy: 0.5529 - val_loss: 1.1503 - val_accuracy: 0.4945\n",
            "Epoch 45/100\n",
            "74/74 [==============================] - 0s 3ms/step - loss: 1.0243 - accuracy: 0.5438 - val_loss: 1.2026 - val_accuracy: 0.4737\n",
            "Epoch 46/100\n",
            "74/74 [==============================] - 0s 3ms/step - loss: 1.0398 - accuracy: 0.5199 - val_loss: 1.1580 - val_accuracy: 0.5168\n",
            "Epoch 47/100\n",
            "74/74 [==============================] - 0s 3ms/step - loss: 1.0310 - accuracy: 0.5425 - val_loss: 1.1617 - val_accuracy: 0.5113\n",
            "Epoch 48/100\n",
            "74/74 [==============================] - 0s 3ms/step - loss: 1.0446 - accuracy: 0.5422 - val_loss: 1.1433 - val_accuracy: 0.5113\n",
            "Epoch 49/100\n",
            "74/74 [==============================] - 0s 3ms/step - loss: 1.0474 - accuracy: 0.5292 - val_loss: 1.1226 - val_accuracy: 0.5079\n",
            "Epoch 50/100\n",
            "74/74 [==============================] - 0s 3ms/step - loss: 1.0342 - accuracy: 0.5176 - val_loss: 1.1415 - val_accuracy: 0.5202\n",
            "Epoch 51/100\n",
            "74/74 [==============================] - 0s 4ms/step - loss: 1.0232 - accuracy: 0.5527 - val_loss: 1.1728 - val_accuracy: 0.5041\n",
            "Epoch 52/100\n",
            "74/74 [==============================] - 0s 4ms/step - loss: 1.0421 - accuracy: 0.5248 - val_loss: 1.1200 - val_accuracy: 0.5280\n",
            "Epoch 53/100\n",
            "74/74 [==============================] - 0s 3ms/step - loss: 1.0012 - accuracy: 0.5534 - val_loss: 1.1365 - val_accuracy: 0.5144\n",
            "Epoch 54/100\n",
            "74/74 [==============================] - 0s 3ms/step - loss: 1.0178 - accuracy: 0.5455 - val_loss: 1.1580 - val_accuracy: 0.4928\n",
            "Epoch 55/100\n",
            "74/74 [==============================] - 0s 3ms/step - loss: 1.0292 - accuracy: 0.5499 - val_loss: 1.1953 - val_accuracy: 0.4887\n",
            "Epoch 56/100\n",
            "74/74 [==============================] - 0s 3ms/step - loss: 1.0235 - accuracy: 0.5462 - val_loss: 1.1263 - val_accuracy: 0.5301\n",
            "Epoch 57/100\n",
            "74/74 [==============================] - 0s 3ms/step - loss: 1.0365 - accuracy: 0.5329 - val_loss: 1.1406 - val_accuracy: 0.5233\n",
            "Epoch 58/100\n",
            "74/74 [==============================] - 0s 3ms/step - loss: 1.0198 - accuracy: 0.5492 - val_loss: 1.1778 - val_accuracy: 0.5096\n",
            "Epoch 59/100\n",
            "74/74 [==============================] - 0s 4ms/step - loss: 1.0070 - accuracy: 0.5457 - val_loss: 1.1739 - val_accuracy: 0.5014\n",
            "Epoch 60/100\n",
            "74/74 [==============================] - 0s 4ms/step - loss: 0.9821 - accuracy: 0.5523 - val_loss: 1.1679 - val_accuracy: 0.5127\n",
            "Epoch 61/100\n",
            "74/74 [==============================] - 0s 4ms/step - loss: 1.0035 - accuracy: 0.5662 - val_loss: 1.1352 - val_accuracy: 0.5229\n",
            "Epoch 62/100\n",
            "74/74 [==============================] - 0s 3ms/step - loss: 1.0074 - accuracy: 0.5667 - val_loss: 1.1381 - val_accuracy: 0.5137\n",
            "Epoch 63/100\n",
            "74/74 [==============================] - 0s 4ms/step - loss: 0.9693 - accuracy: 0.5546 - val_loss: 1.1351 - val_accuracy: 0.5236\n",
            "Epoch 64/100\n",
            "74/74 [==============================] - 0s 4ms/step - loss: 1.0069 - accuracy: 0.5555 - val_loss: 1.2753 - val_accuracy: 0.4439\n",
            "Epoch 65/100\n",
            "74/74 [==============================] - 0s 4ms/step - loss: 1.0670 - accuracy: 0.5235 - val_loss: 1.1348 - val_accuracy: 0.5256\n",
            "Epoch 66/100\n",
            "74/74 [==============================] - 0s 3ms/step - loss: 0.9994 - accuracy: 0.5549 - val_loss: 1.1646 - val_accuracy: 0.5215\n",
            "Epoch 67/100\n",
            "74/74 [==============================] - 0s 3ms/step - loss: 1.0209 - accuracy: 0.5466 - val_loss: 1.1406 - val_accuracy: 0.5229\n",
            "Epoch 68/100\n",
            "74/74 [==============================] - 0s 4ms/step - loss: 1.0409 - accuracy: 0.5413 - val_loss: 1.1372 - val_accuracy: 0.5339\n",
            "Epoch 69/100\n",
            "74/74 [==============================] - 0s 4ms/step - loss: 0.9864 - accuracy: 0.5499 - val_loss: 1.1360 - val_accuracy: 0.5150\n",
            "Epoch 70/100\n",
            "74/74 [==============================] - 0s 3ms/step - loss: 0.9921 - accuracy: 0.5613 - val_loss: 1.1942 - val_accuracy: 0.5178\n",
            "Epoch 71/100\n",
            "74/74 [==============================] - 0s 3ms/step - loss: 1.0064 - accuracy: 0.5479 - val_loss: 1.2915 - val_accuracy: 0.4932\n",
            "Epoch 72/100\n",
            "74/74 [==============================] - 0s 3ms/step - loss: 0.9981 - accuracy: 0.5737 - val_loss: 1.1637 - val_accuracy: 0.5373\n",
            "Epoch 73/100\n",
            "74/74 [==============================] - 0s 4ms/step - loss: 0.9645 - accuracy: 0.5595 - val_loss: 1.1444 - val_accuracy: 0.5294\n",
            "Epoch 74/100\n",
            "74/74 [==============================] - 0s 3ms/step - loss: 0.9928 - accuracy: 0.5546 - val_loss: 1.1569 - val_accuracy: 0.5178\n",
            "Epoch 75/100\n",
            "74/74 [==============================] - 0s 3ms/step - loss: 0.9456 - accuracy: 0.5760 - val_loss: 1.1721 - val_accuracy: 0.5123\n",
            "Epoch 76/100\n",
            "74/74 [==============================] - 0s 3ms/step - loss: 0.9967 - accuracy: 0.5468 - val_loss: 1.1689 - val_accuracy: 0.5198\n",
            "Epoch 77/100\n",
            "74/74 [==============================] - 0s 4ms/step - loss: 0.9516 - accuracy: 0.5773 - val_loss: 1.1558 - val_accuracy: 0.5280\n",
            "Epoch 78/100\n",
            "74/74 [==============================] - 0s 3ms/step - loss: 0.9495 - accuracy: 0.5683 - val_loss: 1.1854 - val_accuracy: 0.5113\n",
            "Epoch 79/100\n",
            "74/74 [==============================] - 0s 3ms/step - loss: 0.9988 - accuracy: 0.5657 - val_loss: 1.1907 - val_accuracy: 0.5226\n",
            "Epoch 80/100\n",
            "74/74 [==============================] - 0s 3ms/step - loss: 0.9556 - accuracy: 0.5493 - val_loss: 1.1882 - val_accuracy: 0.5205\n",
            "Epoch 81/100\n",
            "74/74 [==============================] - 0s 4ms/step - loss: 0.9553 - accuracy: 0.5788 - val_loss: 1.1587 - val_accuracy: 0.5243\n",
            "Epoch 82/100\n",
            "74/74 [==============================] - 0s 4ms/step - loss: 0.9312 - accuracy: 0.5678 - val_loss: 1.2629 - val_accuracy: 0.4997\n",
            "Epoch 83/100\n",
            "74/74 [==============================] - 0s 3ms/step - loss: 0.9562 - accuracy: 0.5707 - val_loss: 1.1718 - val_accuracy: 0.5212\n",
            "Epoch 84/100\n",
            "74/74 [==============================] - 0s 3ms/step - loss: 0.9623 - accuracy: 0.5822 - val_loss: 1.1861 - val_accuracy: 0.5185\n",
            "Epoch 85/100\n",
            "74/74 [==============================] - 0s 4ms/step - loss: 0.9524 - accuracy: 0.5725 - val_loss: 1.1913 - val_accuracy: 0.5215\n",
            "Epoch 86/100\n",
            "74/74 [==============================] - 0s 3ms/step - loss: 0.9754 - accuracy: 0.5541 - val_loss: 1.2225 - val_accuracy: 0.5168\n",
            "Epoch 87/100\n",
            "74/74 [==============================] - 0s 4ms/step - loss: 0.9389 - accuracy: 0.5913 - val_loss: 1.1808 - val_accuracy: 0.5202\n",
            "Epoch 88/100\n",
            "74/74 [==============================] - 0s 4ms/step - loss: 0.9447 - accuracy: 0.5727 - val_loss: 1.2185 - val_accuracy: 0.5140\n",
            "Epoch 89/100\n",
            "74/74 [==============================] - 0s 3ms/step - loss: 0.9535 - accuracy: 0.5542 - val_loss: 1.1847 - val_accuracy: 0.5250\n",
            "Epoch 90/100\n",
            "74/74 [==============================] - 0s 4ms/step - loss: 0.9249 - accuracy: 0.6099 - val_loss: 1.1615 - val_accuracy: 0.5311\n",
            "Epoch 91/100\n",
            "74/74 [==============================] - 0s 3ms/step - loss: 0.9333 - accuracy: 0.5970 - val_loss: 1.2253 - val_accuracy: 0.5256\n",
            "Epoch 92/100\n",
            "74/74 [==============================] - 0s 3ms/step - loss: 0.9345 - accuracy: 0.5703 - val_loss: 1.1830 - val_accuracy: 0.5315\n",
            "Epoch 93/100\n",
            "74/74 [==============================] - 0s 4ms/step - loss: 0.9025 - accuracy: 0.6051 - val_loss: 1.2206 - val_accuracy: 0.5185\n",
            "Epoch 94/100\n",
            "74/74 [==============================] - 0s 3ms/step - loss: 0.9464 - accuracy: 0.5850 - val_loss: 1.1860 - val_accuracy: 0.5260\n",
            "Epoch 95/100\n",
            "74/74 [==============================] - 0s 3ms/step - loss: 0.9179 - accuracy: 0.5868 - val_loss: 1.1993 - val_accuracy: 0.5318\n",
            "Epoch 96/100\n",
            "74/74 [==============================] - 0s 3ms/step - loss: 0.9025 - accuracy: 0.6071 - val_loss: 1.2082 - val_accuracy: 0.5144\n",
            "Epoch 97/100\n",
            "74/74 [==============================] - 0s 4ms/step - loss: 0.9171 - accuracy: 0.5869 - val_loss: 1.2619 - val_accuracy: 0.5099\n",
            "Epoch 98/100\n",
            "74/74 [==============================] - 0s 4ms/step - loss: 0.9331 - accuracy: 0.5725 - val_loss: 1.2342 - val_accuracy: 0.5185\n",
            "Epoch 99/100\n",
            "74/74 [==============================] - 0s 3ms/step - loss: 0.9290 - accuracy: 0.5749 - val_loss: 1.2397 - val_accuracy: 0.5304\n",
            "Epoch 100/100\n",
            "74/74 [==============================] - 0s 4ms/step - loss: 0.9307 - accuracy: 0.5790 - val_loss: 1.2182 - val_accuracy: 0.5178\n"
          ],
          "name": "stdout"
        }
      ]
    },
    {
      "cell_type": "markdown",
      "metadata": {
        "id": "uUhYI89tWrqj"
      },
      "source": [
        "Let's define a function to visualize our loss"
      ]
    },
    {
      "cell_type": "code",
      "metadata": {
        "colab": {
          "base_uri": "https://localhost:8080/",
          "height": 279
        },
        "id": "PJrFlAaDWrqk",
        "outputId": "8edb0307-a362-4794-ec9f-7c463597702e"
      },
      "source": [
        "def show_loss(history):\n",
        "    plt.figure()\n",
        "    plt.plot(history.history['val_loss'], label=\"val loss\")\n",
        "    plt.plot(history.history['loss'],label=\"train loss\")\n",
        "    plt.xlabel(\"Epoch\")\n",
        "    plt.ylabel(\"Loss\")\n",
        "    plt.legend()\n",
        "show_loss(history)"
      ],
      "execution_count": 154,
      "outputs": [
        {
          "output_type": "display_data",
          "data": {
            "image/png": "[encoded data removed]",
            "text/plain": [
              "<Figure size 432x288 with 1 Axes>"
            ]
          },
          "metadata": {
            "tags": [],
            "needs_background": "light"
          }
        }
      ]
    },
    {
      "cell_type": "markdown",
      "metadata": {
        "id": "snz80SqYWrqk"
      },
      "source": [
        "It looks like our training loss is more or less monotonically minimized with each epoch (with some fluctuations) while the validation loss seems to be on average higher. The validation loss spikes more severely than the training loss, which is probably due to limited statistics (we only had ~6k samples and took onlt 20% of them for validation - it usually takes LOTS of data to train neural networks well!). The trend discrepancy between training and validation losses could indicate some overfitting in our model. What happens if you increase the percentage of data used for validation? Since it's pretty apparent we're overfitting to our training data, we could introduce some sort of regularization techniques, like L2 regularization (that penalizes large weights) or dropout (that randomly drops neurons in a layer with a set probability). What happens if you introduce some of these methods?"
      ]
    },
    {
      "cell_type": "markdown",
      "metadata": {
        "id": "3BAPnO0PWrql"
      },
      "source": [
        "### Remember that test data we set aside at the beginning?\n",
        "Now it's time to use it to evaluate our model performance!"
      ]
    },
    {
      "cell_type": "code",
      "metadata": {
        "scrolled": true,
        "colab": {
          "base_uri": "https://localhost:8080/"
        },
        "id": "Ih1XPSgzWrql",
        "outputId": "08126cd1-72f5-457c-971f-27bfd01f6956"
      },
      "source": [
        "_, acc = model.evaluate(df_test, df_testLabels, verbose=1)\n",
        "print('Accuracy for test data is',acc)"
      ],
      "execution_count": 155,
      "outputs": [
        {
          "output_type": "stream",
          "text": [
            "21/21 [==============================] - 0s 1ms/step - loss: 1.2271 - accuracy: 0.5277\n",
            "Accuracy for test data is 0.5276923179626465\n"
          ],
          "name": "stdout"
        }
      ]
    },
    {
      "cell_type": "markdown",
      "metadata": {
        "id": "FWUnjtlXWrqm"
      },
      "source": [
        "To plot our results, I just chose the highest probability of the classes and assigned the prediction to a class based on that rounding (highest probability gets a 1, every other class gets a 0). Then, I one-hot decoded the rounded array to get a single number for the class. "
      ]
    },
    {
      "cell_type": "code",
      "metadata": {
        "colab": {
          "base_uri": "https://localhost:8080/",
          "height": 295
        },
        "id": "0OqVA448Wrqm",
        "outputId": "58eae341-1b2b-448e-85c1-1b9bf519b0be"
      },
      "source": [
        "preds = model.predict(df_test)\n",
        "#preds = [i.round() for i in preds]\n",
        "preds = tf.one_hot(tf.math.argmax(preds,axis =1),depth = len(preds[0]))\n",
        "\n",
        "preds = enc.inverse_transform(preds)\n",
        "testLabels = enc.inverse_transform(df_testLabels)\n",
        "cm = confusion_matrix(testLabels, preds)\n",
        "\n",
        "_ =plt.imshow(cm, cmap=plt.cm.Blues)\n",
        "_ = plt.xlabel(\"Predicted labels\")\n",
        "_ = plt.ylabel(\"True labels\")\n",
        "\n",
        "_ =plt.xticks(np.arange(0,len(np.unique(testLabels)),1),np.unique(testLabels))\n",
        "_ =plt.yticks(np.arange(0,len(np.unique(testLabels)),1),np.unique(testLabels))\n",
        "_ =plt.title('Confusion matrix ')\n",
        "_ =plt.colorbar()\n",
        "plt.show()"
      ],
      "execution_count": 156,
      "outputs": [
        {
          "output_type": "display_data",
          "data": {
            "image/png": "[encoded data removed]",
            "text/plain": [
              "<Figure size 432x288 with 2 Axes>"
            ]
          },
          "metadata": {
            "tags": [],
            "needs_background": "light"
          }
        }
      ]
    },
    {
      "cell_type": "markdown",
      "metadata": {
        "id": "YtuigCqrWrqm"
      },
      "source": [
        "It looks like our network is only predicting *some* of our classes. Maybe that's because really good wine (rated 8 and 9) is pretty rare? Let's check it out."
      ]
    },
    {
      "cell_type": "code",
      "metadata": {
        "colab": {
          "base_uri": "https://localhost:8080/",
          "height": 265
        },
        "id": "-GcoLV44Wrqm",
        "outputId": "50ee49f4-fd1c-407a-d19c-ae5fb98a448d"
      },
      "source": [
        "_=plt.hist(enc.inverse_transform(labels),label='training labels')\n",
        "_=plt.hist(testLabels,label='test labels')\n",
        "_=plt.yscale('log')\n",
        "_=plt.legend()"
      ],
      "execution_count": 157,
      "outputs": [
        {
          "output_type": "display_data",
          "data": {
            "image/png": "[encoded data removed]",
            "text/plain": [
              "<Figure size 432x288 with 1 Axes>"
            ]
          },
          "metadata": {
            "tags": [],
            "needs_background": "light"
          }
        }
      ]
    },
    {
      "cell_type": "markdown",
      "metadata": {
        "id": "uwfxY3NsWrqm"
      },
      "source": [
        "Yep! Mostly 5s, 6s, and 7s. Only a handful of really good wines (8s and 9s) and really bad wines (3s and 4s). In fact, no scores below a 3! But no perfect 10s either. Overall, I would say that the dataset is imbalanced (mostly ok wines, some bad and some good - a pretty Gaussian distribution) and could benefit from data augmentation techniques like bootstrapping! Maybe you could even generate some more data from randomly sampling a known distribution...But if you train your model on mostly ok wines, then it learns the characteristics of those wines really well. So, when it's faced with a good or bad wine, it's not as sure how to classify it. You can see if this is happening by looking at the network output, which are the probabilities for each class (ie how sure the network is this sample belongs to a certain class)."
      ]
    },
    {
      "cell_type": "markdown",
      "metadata": {
        "id": "wXzcBi7SWrqn"
      },
      "source": [
        "### Overall, \n",
        "our network performs ok with a training, validation, and test accuracy all around 50-60%. What could you change about the network or inputs? How do you think that would affect the model's predictions?\n",
        "\n",
        "\n",
        "\n",
        "\n",
        "I could change number of layers in the network or slice the test and training data differently. I would think incresing number of layer will definately increase the accuracy of the validation. \n"
      ]
    },
    {
      "cell_type": "code",
      "metadata": {
        "id": "EB_s6PIvWrqn"
      },
      "source": [
        ""
      ],
      "execution_count": 157,
      "outputs": []
    },
    {
      "cell_type": "code",
      "metadata": {
        "id": "yJ19iUlVckPg"
      },
      "source": [
        ""
      ],
      "execution_count": 157,
      "outputs": []
    }
  ]
}