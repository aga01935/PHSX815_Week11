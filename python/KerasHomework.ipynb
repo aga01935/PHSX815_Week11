{
  "nbformat": 4,
  "nbformat_minor": 0,
  "metadata": {
    "kernelspec": {
      "display_name": "Python 3",
      "language": "python",
      "name": "python3"
    },
    "language_info": {
      "codemirror_mode": {
        "name": "ipython",
        "version": 3
      },
      "file_extension": ".py",
      "mimetype": "text/x-python",
      "name": "python",
      "nbconvert_exporter": "python",
      "pygments_lexer": "ipython3",
      "version": "3.7.6"
    },
    "colab": {
      "name": "KerasTutorial.ipynb",
      "provenance": []
    }
  },
  "cells": [
    {
      "cell_type": "markdown",
      "metadata": {
        "id": "YFv3DXqSWrqT"
      },
      "source": [
        "## PHSX 815 Neural Network with Keras tutorial\n",
        "### How can we predict the quality of wine based on its physical characteristics?\n",
        "We will download the `wine_quality` dataset from Tensorflow (the Keras backend) to train a neural network to predict wine quality."
      ]
    },
    {
      "cell_type": "code",
      "metadata": {
        "id": "HjlSS2qLWrqa"
      },
      "source": [
        "import matplotlib.pyplot as plt\n",
        "import seaborn as sns\n",
        "import numpy as np\n",
        "from sklearn.preprocessing import OneHotEncoder, MinMaxScaler\n",
        "from sklearn.metrics import confusion_matrix\n",
        "from sklearn.model_selection import train_test_split\n",
        "import pandas as pd\n",
        "\n",
        "import tensorflow as tf\n",
        "from tensorflow.keras.models import Sequential, Model\n",
        "from tensorflow.keras.layers import *\n",
        "# from tensorflow.keras.optimizers import SGD, Adam\n",
        "# from tensorflow.keras.activations import relu\n",
        "import tensorflow_datasets as tfds\n",
        "from IPython.core.interactiveshell import InteractiveShell\n",
        "InteractiveShell.ast_node_interactivity = \"all\""
      ],
      "execution_count": 117,
      "outputs": []
    },
    {
      "cell_type": "code",
      "metadata": {
        "colab": {
          "base_uri": "https://localhost:8080/"
        },
        "id": "vPVV1xoZWrqb",
        "outputId": "84492220-bf33-49fb-bca3-17b50119fa63"
      },
      "source": [
        "#if you want to load the data as tuples, you can use the as_supervised=True argument\n",
        "data_train = tfds.load('wine_quality',split='train',as_supervised=True)\n",
        "\n",
        "#looking at just one sample of our data\n",
        "pt = data_train.take(1)\n",
        "# type(pt)\n",
        "\n",
        "#can convert this TakeDataset object to a numpy array (can do this for the whole dataset too)\n",
        "print(\"Features and label for first entry\")\n",
        "for features, label in tfds.as_numpy(pt):\n",
        "    print(features,label)\n",
        "\n",
        "#we want to load dataset as a a dictionary of tf.Tensors (can't transform tuples to dataframe)\n",
        "data_train_white = tfds.load('wine_quality/white',split='train')\n",
        "data_train_red = tfds.load('wine_quality/red',split='train')\n",
        "\n",
        "#transform dictionary to dataframe - combining red and white wine\n",
        "df_white = tfds.as_dataframe(data_train_white)\n",
        "df_red = tfds.as_dataframe(data_train_red)\n",
        "df = pd.concat([df_white,df_red])\n",
        "\n",
        "print('number of samples',len(df['quality']))\n",
        "\n",
        "#what are our output possibilities?\n",
        "print('possible wine quality ratings',df['quality'].unique())"
      ],
      "execution_count": 118,
      "outputs": [
        {
          "output_type": "stream",
          "text": [
            "Features and label for first entry\n",
            "{'alcohol': 9.0, 'chlorides': 0.054, 'citric acid': 0.34, 'density': 1.0008, 'fixed acidity': 7.6, 'free sulfur dioxide': 44.0, 'pH': 3.22, 'residual sugar': 18.35, 'sulphates': 0.550000011920929, 'total sulfur dioxide': 197.0, 'volatile acidity': 0.32} 5\n",
            "number of samples 6497\n",
            "possible wine quality ratings [5 6 4 8 7 3 9]\n"
          ],
          "name": "stdout"
        }
      ]
    },
    {
      "cell_type": "code",
      "metadata": {
        "colab": {
          "base_uri": "https://localhost:8080/"
        },
        "id": "oCmygk1AWrqc",
        "outputId": "157f1993-308b-4885-c855-990e5d43672c"
      },
      "source": [
        "#do we have any missing data (empty or NaN entries in features or labels)?\n",
        "dataNans = df.isnull().values.any()\n",
        "if not dataNans:\n",
        "    print(\"all good!\")"
      ],
      "execution_count": 119,
      "outputs": [
        {
          "output_type": "stream",
          "text": [
            "all good!\n"
          ],
          "name": "stdout"
        }
      ]
    },
    {
      "cell_type": "markdown",
      "metadata": {
        "id": "F76JfSayWrqd"
      },
      "source": [
        "### Preprocessing our labels\n",
        "Although this may seem like a regression task for a neural network because we are predicting a number (wine quality), the labels are actually *categorical* not *continuous*. If you look at the labels, you see that they are integer values between 5 and 9. Because this is a classification problem, we need to one-hot encode our labels. This means taking our possible outcomes and turning them into arrays of a 1 and 0's. The index of the 1 in the array will tell us which class is which. So, for example, 5 becomes [1,0,0,0,0], 6 becomes [0,1,0,0,0] and so on. We can use a function from sklearn to do this automatically."
      ]
    },
    {
      "cell_type": "markdown",
      "metadata": {
        "id": "a6RQW2BFWrqd"
      },
      "source": [
        "this dataset unfortunately only gives us training data - but we can set aside a portion for testing our network on. in practice, you don't want to test your network on data it has already seen (is it really a prediction if you use your model on data it was fitted to?) but, for educational purposes, we can ~randomly sample our data and call it ~iid.\n",
        "Here, I combine the red and white wine datasets for increased statistics. What happens if you train networks on these datasets separately? Or what happens if you use one dataset to train and one to test?"
      ]
    },
    {
      "cell_type": "code",
      "metadata": {
        "colab": {
          "base_uri": "https://localhost:8080/",
          "height": 0
        },
        "id": "3mm5HHy2Wrqd",
        "outputId": "21bc1cd9-ecc5-448e-ee40-a2bceb59dcd5"
      },
      "source": [
        "#it's helpful to separate our input features from our target features (quality) \n",
        "#so we can later only transform our inputs without changing our labels\n",
        "labels = df['quality']\n",
        "df = df.drop(labels='quality',axis=1)\n",
        "labels.unique()\n",
        "\n",
        "enc = OneHotEncoder(sparse=False)\n",
        "labels = enc.fit_transform(labels.to_numpy().reshape(-1,1))\n",
        "\n",
        "#make our test data\n",
        "df, df_test, labels, df_testLabels = train_test_split(df,labels,test_size=0.2)\n",
        "\n",
        "#look at the first 5 entries\n",
        "df.head()"
      ],
      "execution_count": 120,
      "outputs": [
        {
          "output_type": "execute_result",
          "data": {
            "text/plain": [
              "array([5, 6, 4, 8, 7, 3, 9])"
            ]
          },
          "metadata": {
            "tags": []
          },
          "execution_count": 120
        },
        {
          "output_type": "execute_result",
          "data": {
            "text/html": [
              "<div>\n",
              "<style scoped>\n",
              "    .dataframe tbody tr th:only-of-type {\n",
              "        vertical-align: middle;\n",
              "    }\n",
              "\n",
              "    .dataframe tbody tr th {\n",
              "        vertical-align: top;\n",
              "    }\n",
              "\n",
              "    .dataframe thead th {\n",
              "        text-align: right;\n",
              "    }\n",
              "</style>\n",
              "<table border=\"1\" class=\"dataframe\">\n",
              "  <thead>\n",
              "    <tr style=\"text-align: right;\">\n",
              "      <th></th>\n",
              "      <th>features/alcohol</th>\n",
              "      <th>features/chlorides</th>\n",
              "      <th>features/citric acid</th>\n",
              "      <th>features/density</th>\n",
              "      <th>features/fixed acidity</th>\n",
              "      <th>features/free sulfur dioxide</th>\n",
              "      <th>features/pH</th>\n",
              "      <th>features/residual sugar</th>\n",
              "      <th>features/sulphates</th>\n",
              "      <th>features/total sulfur dioxide</th>\n",
              "      <th>features/volatile acidity</th>\n",
              "    </tr>\n",
              "  </thead>\n",
              "  <tbody>\n",
              "    <tr>\n",
              "      <th>1158</th>\n",
              "      <td>10.9</td>\n",
              "      <td>0.044</td>\n",
              "      <td>0.31</td>\n",
              "      <td>0.99370</td>\n",
              "      <td>7.1</td>\n",
              "      <td>29.0</td>\n",
              "      <td>3.34</td>\n",
              "      <td>2.2</td>\n",
              "      <td>0.64</td>\n",
              "      <td>128.0</td>\n",
              "      <td>0.260</td>\n",
              "    </tr>\n",
              "    <tr>\n",
              "      <th>49</th>\n",
              "      <td>10.8</td>\n",
              "      <td>0.046</td>\n",
              "      <td>0.31</td>\n",
              "      <td>0.99390</td>\n",
              "      <td>7.0</td>\n",
              "      <td>29.0</td>\n",
              "      <td>3.26</td>\n",
              "      <td>6.0</td>\n",
              "      <td>0.50</td>\n",
              "      <td>108.0</td>\n",
              "      <td>0.210</td>\n",
              "    </tr>\n",
              "    <tr>\n",
              "      <th>801</th>\n",
              "      <td>10.9</td>\n",
              "      <td>0.073</td>\n",
              "      <td>0.10</td>\n",
              "      <td>0.99638</td>\n",
              "      <td>8.2</td>\n",
              "      <td>25.0</td>\n",
              "      <td>3.29</td>\n",
              "      <td>2.1</td>\n",
              "      <td>0.75</td>\n",
              "      <td>60.0</td>\n",
              "      <td>0.635</td>\n",
              "    </tr>\n",
              "    <tr>\n",
              "      <th>194</th>\n",
              "      <td>8.9</td>\n",
              "      <td>0.056</td>\n",
              "      <td>0.30</td>\n",
              "      <td>0.99900</td>\n",
              "      <td>7.6</td>\n",
              "      <td>53.0</td>\n",
              "      <td>3.14</td>\n",
              "      <td>14.2</td>\n",
              "      <td>0.46</td>\n",
              "      <td>212.5</td>\n",
              "      <td>0.200</td>\n",
              "    </tr>\n",
              "    <tr>\n",
              "      <th>704</th>\n",
              "      <td>9.5</td>\n",
              "      <td>0.048</td>\n",
              "      <td>0.31</td>\n",
              "      <td>0.99300</td>\n",
              "      <td>6.1</td>\n",
              "      <td>23.0</td>\n",
              "      <td>3.22</td>\n",
              "      <td>0.9</td>\n",
              "      <td>0.77</td>\n",
              "      <td>170.0</td>\n",
              "      <td>0.400</td>\n",
              "    </tr>\n",
              "  </tbody>\n",
              "</table>\n",
              "</div>"
            ],
            "text/plain": [
              "      features/alcohol  ...  features/volatile acidity\n",
              "1158              10.9  ...                      0.260\n",
              "49                10.8  ...                      0.210\n",
              "801               10.9  ...                      0.635\n",
              "194                8.9  ...                      0.200\n",
              "704                9.5  ...                      0.400\n",
              "\n",
              "[5 rows x 11 columns]"
            ]
          },
          "metadata": {
            "tags": []
          },
          "execution_count": 120
        }
      ]
    },
    {
      "cell_type": "markdown",
      "metadata": {
        "id": "11ct2Xz_Wrqe"
      },
      "source": [
        "### some questions to consider:\n",
        "- how was this data obtained? what goes into engineering the features? what does \"quality\" mean?\n",
        "\n",
        "- data was obtained from standard tenserflow library. \n",
        "- do you have to normalize your features?\n",
        "- are there any correlations among features? is this expected? how can we encode this information to the NN or decouple these features?\n",
        "- what does the data look like?\n",
        "- do we have any missing or NaN entries?"
      ]
    },
    {
      "cell_type": "markdown",
      "metadata": {
        "id": "gxZJSKbfWrqe"
      },
      "source": [
        "let's examine the data to see what kinds of transformations we need to make for preprocessing"
      ]
    },
    {
      "cell_type": "code",
      "metadata": {
        "colab": {
          "base_uri": "https://localhost:8080/",
          "height": 338
        },
        "id": "NHoK8BKgWrqe",
        "outputId": "0b008274-ea1e-4ac4-b25c-a146867c0889"
      },
      "source": [
        "df.describe()"
      ],
      "execution_count": 121,
      "outputs": [
        {
          "output_type": "execute_result",
          "data": {
            "text/html": [
              "<div>\n",
              "<style scoped>\n",
              "    .dataframe tbody tr th:only-of-type {\n",
              "        vertical-align: middle;\n",
              "    }\n",
              "\n",
              "    .dataframe tbody tr th {\n",
              "        vertical-align: top;\n",
              "    }\n",
              "\n",
              "    .dataframe thead th {\n",
              "        text-align: right;\n",
              "    }\n",
              "</style>\n",
              "<table border=\"1\" class=\"dataframe\">\n",
              "  <thead>\n",
              "    <tr style=\"text-align: right;\">\n",
              "      <th></th>\n",
              "      <th>features/alcohol</th>\n",
              "      <th>features/chlorides</th>\n",
              "      <th>features/citric acid</th>\n",
              "      <th>features/density</th>\n",
              "      <th>features/fixed acidity</th>\n",
              "      <th>features/free sulfur dioxide</th>\n",
              "      <th>features/pH</th>\n",
              "      <th>features/residual sugar</th>\n",
              "      <th>features/sulphates</th>\n",
              "      <th>features/total sulfur dioxide</th>\n",
              "      <th>features/volatile acidity</th>\n",
              "    </tr>\n",
              "  </thead>\n",
              "  <tbody>\n",
              "    <tr>\n",
              "      <th>count</th>\n",
              "      <td>5197.000000</td>\n",
              "      <td>5197.000000</td>\n",
              "      <td>5197.000000</td>\n",
              "      <td>5197.000000</td>\n",
              "      <td>5197.000000</td>\n",
              "      <td>5197.000000</td>\n",
              "      <td>5197.000000</td>\n",
              "      <td>5197.000000</td>\n",
              "      <td>5197.000000</td>\n",
              "      <td>5197.000000</td>\n",
              "      <td>5197.000000</td>\n",
              "    </tr>\n",
              "    <tr>\n",
              "      <th>mean</th>\n",
              "      <td>10.497481</td>\n",
              "      <td>0.055978</td>\n",
              "      <td>0.318089</td>\n",
              "      <td>0.994694</td>\n",
              "      <td>7.212430</td>\n",
              "      <td>30.505580</td>\n",
              "      <td>3.218478</td>\n",
              "      <td>5.463248</td>\n",
              "      <td>0.531235</td>\n",
              "      <td>115.697903</td>\n",
              "      <td>0.340809</td>\n",
              "    </tr>\n",
              "    <tr>\n",
              "      <th>std</th>\n",
              "      <td>1.198754</td>\n",
              "      <td>0.035135</td>\n",
              "      <td>0.143770</td>\n",
              "      <td>0.003003</td>\n",
              "      <td>1.297251</td>\n",
              "      <td>17.753792</td>\n",
              "      <td>0.160540</td>\n",
              "      <td>4.764704</td>\n",
              "      <td>0.151079</td>\n",
              "      <td>56.479839</td>\n",
              "      <td>0.165117</td>\n",
              "    </tr>\n",
              "    <tr>\n",
              "      <th>min</th>\n",
              "      <td>8.000000</td>\n",
              "      <td>0.012000</td>\n",
              "      <td>0.000000</td>\n",
              "      <td>0.987110</td>\n",
              "      <td>3.800000</td>\n",
              "      <td>1.000000</td>\n",
              "      <td>2.720000</td>\n",
              "      <td>0.600000</td>\n",
              "      <td>0.220000</td>\n",
              "      <td>6.000000</td>\n",
              "      <td>0.080000</td>\n",
              "    </tr>\n",
              "    <tr>\n",
              "      <th>25%</th>\n",
              "      <td>9.500000</td>\n",
              "      <td>0.038000</td>\n",
              "      <td>0.250000</td>\n",
              "      <td>0.992350</td>\n",
              "      <td>6.400000</td>\n",
              "      <td>17.000000</td>\n",
              "      <td>3.110000</td>\n",
              "      <td>1.800000</td>\n",
              "      <td>0.430000</td>\n",
              "      <td>77.000000</td>\n",
              "      <td>0.230000</td>\n",
              "    </tr>\n",
              "    <tr>\n",
              "      <th>50%</th>\n",
              "      <td>10.300000</td>\n",
              "      <td>0.047000</td>\n",
              "      <td>0.310000</td>\n",
              "      <td>0.994880</td>\n",
              "      <td>7.000000</td>\n",
              "      <td>29.000000</td>\n",
              "      <td>3.210000</td>\n",
              "      <td>3.000000</td>\n",
              "      <td>0.510000</td>\n",
              "      <td>118.000000</td>\n",
              "      <td>0.295000</td>\n",
              "    </tr>\n",
              "    <tr>\n",
              "      <th>75%</th>\n",
              "      <td>11.300000</td>\n",
              "      <td>0.065000</td>\n",
              "      <td>0.390000</td>\n",
              "      <td>0.996920</td>\n",
              "      <td>7.700000</td>\n",
              "      <td>41.000000</td>\n",
              "      <td>3.320000</td>\n",
              "      <td>8.200000</td>\n",
              "      <td>0.600000</td>\n",
              "      <td>155.000000</td>\n",
              "      <td>0.410000</td>\n",
              "    </tr>\n",
              "    <tr>\n",
              "      <th>max</th>\n",
              "      <td>14.900000</td>\n",
              "      <td>0.611000</td>\n",
              "      <td>1.230000</td>\n",
              "      <td>1.038980</td>\n",
              "      <td>15.900000</td>\n",
              "      <td>289.000000</td>\n",
              "      <td>3.900000</td>\n",
              "      <td>65.800003</td>\n",
              "      <td>2.000000</td>\n",
              "      <td>440.000000</td>\n",
              "      <td>1.580000</td>\n",
              "    </tr>\n",
              "  </tbody>\n",
              "</table>\n",
              "</div>"
            ],
            "text/plain": [
              "       features/alcohol  ...  features/volatile acidity\n",
              "count       5197.000000  ...                5197.000000\n",
              "mean          10.497481  ...                   0.340809\n",
              "std            1.198754  ...                   0.165117\n",
              "min            8.000000  ...                   0.080000\n",
              "25%            9.500000  ...                   0.230000\n",
              "50%           10.300000  ...                   0.295000\n",
              "75%           11.300000  ...                   0.410000\n",
              "max           14.900000  ...                   1.580000\n",
              "\n",
              "[8 rows x 11 columns]"
            ]
          },
          "metadata": {
            "tags": []
          },
          "execution_count": 121
        }
      ]
    },
    {
      "cell_type": "markdown",
      "metadata": {
        "id": "oxwEloavWrqf"
      },
      "source": [
        "### Visualizing data\n",
        "If you want a cool and easy way to visualize not only the features, but also the correlations between features, you can use the following seaborn function, which will display the individual features on the diagonal of the subplots and the correlations between features\n",
        "\n",
        "`pl = sns.pairplot(df[df.columns], diag_kind='kde')`"
      ]
    },
    {
      "cell_type": "code",
      "metadata": {
        "colab": {
          "base_uri": "https://localhost:8080/",
          "height": 1000
        },
        "id": "Rq7cPKUHWrqf",
        "outputId": "fae02a67-7fb5-4147-9760-4f30fc68425a"
      },
      "source": [
        "#visualizing our input features\n",
        "nFeatures = len(df.columns)\n",
        "nCols = 3\n",
        "nRows = int(np.ceil(nFeatures/nCols))\n",
        "cols = df.columns\n",
        "fig, axs = plt.subplots(nRows,nCols,figsize=(15,20))\n",
        "# for i, ax in enumerate(axs)\n",
        "col = 0\n",
        "for i in range(nRows):\n",
        "    for j in range(nCols):\n",
        "        if col >= nFeatures:\n",
        "            break\n",
        "        h = axs[i,j].hist(df[cols[col]])\n",
        "        h = axs[i,j].set_title(cols[col])\n",
        "        col += 1"
      ],
      "execution_count": 122,
      "outputs": [
        {
          "output_type": "display_data",
          "data": {
            "image/png": "[encoded data removed]",
            "text/plain": [
              "<Figure size 1080x1440 with 12 Axes>"
            ]
          },
          "metadata": {
            "tags": [],
            "needs_background": "light"
          }
        }
      ]
    },
    {
      "cell_type": "markdown",
      "metadata": {
        "id": "VpuTODaHWrqg"
      },
      "source": [
        "It looks like there are two types of sulfur dioxide features: total sulfur dioxide and free sulfur dioxide. I'm not entirely sure what sulfur dioxide is (I am neither a chemist nor a sommelier) so I'm curious if there is a correlation between these features. "
      ]
    },
    {
      "cell_type": "code",
      "metadata": {
        "colab": {
          "base_uri": "https://localhost:8080/",
          "height": 282
        },
        "id": "fhePXSNgWrqg",
        "outputId": "5a9173d6-da41-49db-e4dc-90356b9998fa"
      },
      "source": [
        "plt.scatter(df['features/free sulfur dioxide'],df['features/total sulfur dioxide'])"
      ],
      "execution_count": 123,
      "outputs": [
        {
          "output_type": "execute_result",
          "data": {
            "text/plain": [
              "<matplotlib.collections.PathCollection at 0x7fa015aadd50>"
            ]
          },
          "metadata": {
            "tags": []
          },
          "execution_count": 123
        },
        {
          "output_type": "display_data",
          "data": {
            "image/png": "[encoded data removed]",
            "text/plain": [
              "<Figure size 432x288 with 1 Axes>"
            ]
          },
          "metadata": {
            "tags": [],
            "needs_background": "light"
          }
        }
      ]
    },
    {
      "cell_type": "markdown",
      "metadata": {
        "id": "uaAd7sqGWrqg"
      },
      "source": [
        "It looks like there is some correlation between these features. If I had to guess, I would say \"free sulfur dioxide\" is a subset of \"total sulfur dioxide\" but I'm not sure how or even if either of these features would affect the wine quality. This is where domain specific knowledge would be helpful! Since I have a degree in physics and not wine studies (contrary to what my weekend activities may imply) I am going to see what happens when we include both of these features in our network."
      ]
    },
    {
      "cell_type": "markdown",
      "metadata": {
        "id": "8qkTSvXzWrqh"
      },
      "source": [
        "This was just a cursory look at our data. In reality, data scientists will spend most of their time feature engineering, fixing incomplete datasets, cleaning data, etc. Feel free to do more exploratory analysis on the data before you pass it through to a network!"
      ]
    },
    {
      "cell_type": "markdown",
      "metadata": {
        "id": "9Cqq8LrFWrqh"
      },
      "source": [
        "## Let's build our network!\n",
        "We want to build a simple DNN to essentially perform a categorization. Let's start with something simple: only a couple hidden layers and a handful of neurons. Of course, in accordance with the Universal Approximation Theorem, any function can be approximated arbitrarily well with an arbitrarily large number of layers (Lu et. al. 2017) or arbitrarily large number of neurons (Cybenko 1989). Does the network perform better or worse with an increase in layers or neurons?"
      ]
    },
    {
      "cell_type": "code",
      "metadata": {
        "colab": {
          "base_uri": "https://localhost:8080/"
        },
        "id": "m81g_3e9Wrqh",
        "outputId": "5085bfca-98e6-4432-db91-73cb2fcc64d0"
      },
      "source": [
        "cols = df.columns\n",
        "nClasses = len(labels[0])\n",
        "\n",
        "#using Keras's Sequential model - https://keras.io/api/models/sequential/\n",
        "model = Sequential()\n",
        "#add input layer\n",
        "model.add(Input(shape=(len(cols),))) #the input layer shape should match the number of features we have\n",
        "#add first layer of fully connected neurons\n",
        "model.add(Dense(128,activation='relu'))\n",
        "#add second layer (first hidden layer)\n",
        "model.add(Dense(128,activation='relu'))\n",
        "#and one more because why not\n",
        "model.add(Dense(128,activation='relu'))\n",
        "#added extra layer now\n",
        "model.add(Dense(128,activation='relu'))\n",
        "\n",
        "#finally, our output layer should have only one neuron because we are trying to predict only one number\n",
        "#notice how there is a different activation function in this layer\n",
        "#this is because we want our outputs for each class to be a probability\n",
        "model.add(Dense(nClasses,activation='softmax'))\n",
        "\n",
        "#compile our model - set our loss metric (categorical cross entropy) and optimizer (stochastic gradient descent)\n",
        "#how does the model performance change with different optimizers (ie AdaGrad, SGD, etc.)?\n",
        "model.compile(loss='CategoricalCrossentropy',optimizer='Adam',metrics=['accuracy'])\n",
        "\n",
        "#let's see a summary of our model\n",
        "model.summary()"
      ],
      "execution_count": 124,
      "outputs": [
        {
          "output_type": "stream",
          "text": [
            "Model: \"sequential_9\"\n",
            "_________________________________________________________________\n",
            "Layer (type)                 Output Shape              Param #   \n",
            "=================================================================\n",
            "dense_38 (Dense)             (None, 128)               1536      \n",
            "_________________________________________________________________\n",
            "dense_39 (Dense)             (None, 128)               16512     \n",
            "_________________________________________________________________\n",
            "dense_40 (Dense)             (None, 128)               16512     \n",
            "_________________________________________________________________\n",
            "dense_41 (Dense)             (None, 128)               16512     \n",
            "_________________________________________________________________\n",
            "dense_42 (Dense)             (None, 7)                 903       \n",
            "=================================================================\n",
            "Total params: 51,975\n",
            "Trainable params: 51,975\n",
            "Non-trainable params: 0\n",
            "_________________________________________________________________\n"
          ],
          "name": "stdout"
        }
      ]
    },
    {
      "cell_type": "markdown",
      "metadata": {
        "id": "BglMPkOxWrqh"
      },
      "source": [
        "As shown above, we have a network with four layers, 128 neurons/layer, for a total of ~50k trainable parameters (remember: parameters are the biases and weights that the network learns). Imagine how many parameters a large, complex network at Google has!"
      ]
    },
    {
      "cell_type": "markdown",
      "metadata": {
        "id": "FJwh6ujMWrqi"
      },
      "source": [
        "### the same model can be built using the generic Model class and slightly different syntax\n",
        "`\n",
        "inputs = tf.keras.Input(shape=(len(cols),))\n",
        "outputs_L1 = Dense(64, activation='relu')(inputs)\n",
        "outputs_L2 = Dense(64, activation='relu')(outputs_L1)\n",
        "outputs_L3 = Dense(64, activation='relu')(outputs_L2)\n",
        "pred = Dense(1)(outputs_L3)\n",
        "model = Model(inputs=inputs,outputs=pred)\n",
        "`"
      ]
    },
    {
      "cell_type": "markdown",
      "metadata": {
        "id": "qYv1LwwsWrqi"
      },
      "source": [
        "### Training our model\n",
        "\n",
        "Let's give our model all the input features (df), the corresponding labels (labels)\n",
        "\n",
        "There is a 20% validation split, which means that 80% of our data will be used to train the model parameters\n",
        "while 20% of it will be saved to \"check\" our answers. This is data that the model has not seen (been trained on) so the performance on the validation data should give us an idea of if the model is over- or underfitting.\n",
        "\n",
        "We will train for 100 epochs, which means that the entire dataset will be passed through the whole network 100 times. Our batch size is 20, meaning that 20 samples at a time are passed to the network before the parameters are updated. The `shuffle` argument ensures that our data is shuffled before the beginning of each epoch to reduce spurious learned correlations. What happens if you let the model run for more epochs?\n"
      ]
    },
    {
      "cell_type": "code",
      "metadata": {
        "colab": {
          "base_uri": "https://localhost:8080/"
        },
        "id": "x2J8JcEaWrqj",
        "outputId": "1df51671-27b2-41f7-f585-625881568241"
      },
      "source": [
        "history = model.fit(df, labels, validation_split=0.5, verbose=1, epochs=100, batch_size=100, shuffle=True)"
      ],
      "execution_count": 125,
      "outputs": [
        {
          "output_type": "stream",
          "text": [
            "Epoch 1/100\n",
            "26/26 [==============================] - 1s 14ms/step - loss: 2.5321 - accuracy: 0.3516 - val_loss: 1.3724 - val_accuracy: 0.4271\n",
            "Epoch 2/100\n",
            "26/26 [==============================] - 0s 5ms/step - loss: 1.3333 - accuracy: 0.4317 - val_loss: 1.2721 - val_accuracy: 0.4529\n",
            "Epoch 3/100\n",
            "26/26 [==============================] - 0s 6ms/step - loss: 1.2739 - accuracy: 0.4363 - val_loss: 1.2656 - val_accuracy: 0.4636\n",
            "Epoch 4/100\n",
            "26/26 [==============================] - 0s 6ms/step - loss: 1.2585 - accuracy: 0.4465 - val_loss: 1.2586 - val_accuracy: 0.4621\n",
            "Epoch 5/100\n",
            "26/26 [==============================] - 0s 5ms/step - loss: 1.2573 - accuracy: 0.4443 - val_loss: 1.2573 - val_accuracy: 0.4509\n",
            "Epoch 6/100\n",
            "26/26 [==============================] - 0s 6ms/step - loss: 1.2345 - accuracy: 0.4540 - val_loss: 1.2567 - val_accuracy: 0.4367\n",
            "Epoch 7/100\n",
            "26/26 [==============================] - 0s 6ms/step - loss: 1.2350 - accuracy: 0.4645 - val_loss: 1.2180 - val_accuracy: 0.4644\n",
            "Epoch 8/100\n",
            "26/26 [==============================] - 0s 6ms/step - loss: 1.2381 - accuracy: 0.4344 - val_loss: 1.2563 - val_accuracy: 0.4325\n",
            "Epoch 9/100\n",
            "26/26 [==============================] - 0s 6ms/step - loss: 1.2760 - accuracy: 0.4473 - val_loss: 1.2117 - val_accuracy: 0.4748\n",
            "Epoch 10/100\n",
            "26/26 [==============================] - 0s 5ms/step - loss: 1.2502 - accuracy: 0.4545 - val_loss: 1.2604 - val_accuracy: 0.4525\n",
            "Epoch 11/100\n",
            "26/26 [==============================] - 0s 5ms/step - loss: 1.2292 - accuracy: 0.4457 - val_loss: 1.2053 - val_accuracy: 0.4713\n",
            "Epoch 12/100\n",
            "26/26 [==============================] - 0s 6ms/step - loss: 1.1967 - accuracy: 0.4648 - val_loss: 1.2111 - val_accuracy: 0.4517\n",
            "Epoch 13/100\n",
            "26/26 [==============================] - 0s 5ms/step - loss: 1.1908 - accuracy: 0.4755 - val_loss: 1.2363 - val_accuracy: 0.4436\n",
            "Epoch 14/100\n",
            "26/26 [==============================] - 0s 5ms/step - loss: 1.2051 - accuracy: 0.4482 - val_loss: 1.1863 - val_accuracy: 0.4725\n",
            "Epoch 15/100\n",
            "26/26 [==============================] - 0s 6ms/step - loss: 1.1814 - accuracy: 0.4790 - val_loss: 1.1411 - val_accuracy: 0.4998\n",
            "Epoch 16/100\n",
            "26/26 [==============================] - 0s 6ms/step - loss: 1.1311 - accuracy: 0.5014 - val_loss: 1.1299 - val_accuracy: 0.5029\n",
            "Epoch 17/100\n",
            "26/26 [==============================] - 0s 5ms/step - loss: 1.2108 - accuracy: 0.4586 - val_loss: 1.1412 - val_accuracy: 0.4829\n",
            "Epoch 18/100\n",
            "26/26 [==============================] - 0s 6ms/step - loss: 1.1206 - accuracy: 0.4811 - val_loss: 1.1256 - val_accuracy: 0.5114\n",
            "Epoch 19/100\n",
            "26/26 [==============================] - 0s 5ms/step - loss: 1.1471 - accuracy: 0.5027 - val_loss: 1.1233 - val_accuracy: 0.5056\n",
            "Epoch 20/100\n",
            "26/26 [==============================] - 0s 5ms/step - loss: 1.1492 - accuracy: 0.4804 - val_loss: 1.1439 - val_accuracy: 0.4783\n",
            "Epoch 21/100\n",
            "26/26 [==============================] - 0s 6ms/step - loss: 1.1280 - accuracy: 0.5098 - val_loss: 1.1148 - val_accuracy: 0.5140\n",
            "Epoch 22/100\n",
            "26/26 [==============================] - 0s 6ms/step - loss: 1.1205 - accuracy: 0.5107 - val_loss: 1.1123 - val_accuracy: 0.5129\n",
            "Epoch 23/100\n",
            "26/26 [==============================] - 0s 6ms/step - loss: 1.1031 - accuracy: 0.5064 - val_loss: 1.1305 - val_accuracy: 0.4910\n",
            "Epoch 24/100\n",
            "26/26 [==============================] - 0s 5ms/step - loss: 1.1194 - accuracy: 0.5086 - val_loss: 1.1750 - val_accuracy: 0.4956\n",
            "Epoch 25/100\n",
            "26/26 [==============================] - 0s 5ms/step - loss: 1.1433 - accuracy: 0.4753 - val_loss: 1.1259 - val_accuracy: 0.5106\n",
            "Epoch 26/100\n",
            "26/26 [==============================] - 0s 5ms/step - loss: 1.1059 - accuracy: 0.4975 - val_loss: 1.1430 - val_accuracy: 0.4921\n",
            "Epoch 27/100\n",
            "26/26 [==============================] - 0s 5ms/step - loss: 1.1024 - accuracy: 0.5011 - val_loss: 1.1699 - val_accuracy: 0.4640\n",
            "Epoch 28/100\n",
            "26/26 [==============================] - 0s 6ms/step - loss: 1.0956 - accuracy: 0.5093 - val_loss: 1.1144 - val_accuracy: 0.4925\n",
            "Epoch 29/100\n",
            "26/26 [==============================] - 0s 6ms/step - loss: 1.0930 - accuracy: 0.5316 - val_loss: 1.1010 - val_accuracy: 0.5298\n",
            "Epoch 30/100\n",
            "26/26 [==============================] - 0s 6ms/step - loss: 1.0896 - accuracy: 0.5368 - val_loss: 1.1441 - val_accuracy: 0.5121\n",
            "Epoch 31/100\n",
            "26/26 [==============================] - 0s 5ms/step - loss: 1.1023 - accuracy: 0.5001 - val_loss: 1.1079 - val_accuracy: 0.5117\n",
            "Epoch 32/100\n",
            "26/26 [==============================] - 0s 6ms/step - loss: 1.0832 - accuracy: 0.5133 - val_loss: 1.1255 - val_accuracy: 0.4956\n",
            "Epoch 33/100\n",
            "26/26 [==============================] - 0s 6ms/step - loss: 1.0768 - accuracy: 0.5078 - val_loss: 1.1520 - val_accuracy: 0.4948\n",
            "Epoch 34/100\n",
            "26/26 [==============================] - 0s 5ms/step - loss: 1.1021 - accuracy: 0.5199 - val_loss: 1.1015 - val_accuracy: 0.5102\n",
            "Epoch 35/100\n",
            "26/26 [==============================] - 0s 5ms/step - loss: 1.0964 - accuracy: 0.5297 - val_loss: 1.1087 - val_accuracy: 0.5133\n",
            "Epoch 36/100\n",
            "26/26 [==============================] - 0s 5ms/step - loss: 1.0868 - accuracy: 0.5123 - val_loss: 1.0996 - val_accuracy: 0.5260\n",
            "Epoch 37/100\n",
            "26/26 [==============================] - 0s 6ms/step - loss: 1.0804 - accuracy: 0.5355 - val_loss: 1.1056 - val_accuracy: 0.5214\n",
            "Epoch 38/100\n",
            "26/26 [==============================] - 0s 6ms/step - loss: 1.0702 - accuracy: 0.5233 - val_loss: 1.1048 - val_accuracy: 0.5060\n",
            "Epoch 39/100\n",
            "26/26 [==============================] - 0s 5ms/step - loss: 1.0704 - accuracy: 0.5202 - val_loss: 1.0941 - val_accuracy: 0.5110\n",
            "Epoch 40/100\n",
            "26/26 [==============================] - 0s 6ms/step - loss: 1.0942 - accuracy: 0.5082 - val_loss: 1.2392 - val_accuracy: 0.4613\n",
            "Epoch 41/100\n",
            "26/26 [==============================] - 0s 5ms/step - loss: 1.1306 - accuracy: 0.5183 - val_loss: 1.1318 - val_accuracy: 0.4979\n",
            "Epoch 42/100\n",
            "26/26 [==============================] - 0s 5ms/step - loss: 1.0721 - accuracy: 0.5203 - val_loss: 1.0879 - val_accuracy: 0.5275\n",
            "Epoch 43/100\n",
            "26/26 [==============================] - 0s 6ms/step - loss: 1.0608 - accuracy: 0.5407 - val_loss: 1.1063 - val_accuracy: 0.5117\n",
            "Epoch 44/100\n",
            "26/26 [==============================] - 0s 6ms/step - loss: 1.0401 - accuracy: 0.5363 - val_loss: 1.1982 - val_accuracy: 0.4525\n",
            "Epoch 45/100\n",
            "26/26 [==============================] - 0s 6ms/step - loss: 1.0872 - accuracy: 0.5178 - val_loss: 1.1301 - val_accuracy: 0.5044\n",
            "Epoch 46/100\n",
            "26/26 [==============================] - 0s 6ms/step - loss: 1.0671 - accuracy: 0.5211 - val_loss: 1.0991 - val_accuracy: 0.5252\n",
            "Epoch 47/100\n",
            "26/26 [==============================] - 0s 6ms/step - loss: 1.0814 - accuracy: 0.5349 - val_loss: 1.1246 - val_accuracy: 0.4944\n",
            "Epoch 48/100\n",
            "26/26 [==============================] - 0s 5ms/step - loss: 1.0592 - accuracy: 0.5330 - val_loss: 1.1127 - val_accuracy: 0.5240\n",
            "Epoch 49/100\n",
            "26/26 [==============================] - 0s 6ms/step - loss: 1.0833 - accuracy: 0.5165 - val_loss: 1.0930 - val_accuracy: 0.5221\n",
            "Epoch 50/100\n",
            "26/26 [==============================] - 0s 6ms/step - loss: 1.0532 - accuracy: 0.5329 - val_loss: 1.1091 - val_accuracy: 0.5110\n",
            "Epoch 51/100\n",
            "26/26 [==============================] - 0s 5ms/step - loss: 1.0613 - accuracy: 0.5248 - val_loss: 1.0795 - val_accuracy: 0.5329\n",
            "Epoch 52/100\n",
            "26/26 [==============================] - 0s 5ms/step - loss: 1.0504 - accuracy: 0.5311 - val_loss: 1.0920 - val_accuracy: 0.5371\n",
            "Epoch 53/100\n",
            "26/26 [==============================] - 0s 5ms/step - loss: 1.0566 - accuracy: 0.5367 - val_loss: 1.1155 - val_accuracy: 0.5240\n",
            "Epoch 54/100\n",
            "26/26 [==============================] - 0s 5ms/step - loss: 1.0571 - accuracy: 0.5169 - val_loss: 1.1091 - val_accuracy: 0.5271\n",
            "Epoch 55/100\n",
            "26/26 [==============================] - 0s 5ms/step - loss: 1.0631 - accuracy: 0.5190 - val_loss: 1.0960 - val_accuracy: 0.5298\n",
            "Epoch 56/100\n",
            "26/26 [==============================] - 0s 6ms/step - loss: 1.0701 - accuracy: 0.5051 - val_loss: 1.1190 - val_accuracy: 0.5102\n",
            "Epoch 57/100\n",
            "26/26 [==============================] - 0s 5ms/step - loss: 1.0611 - accuracy: 0.5104 - val_loss: 1.1148 - val_accuracy: 0.5206\n",
            "Epoch 58/100\n",
            "26/26 [==============================] - 0s 6ms/step - loss: 1.0378 - accuracy: 0.5158 - val_loss: 1.0991 - val_accuracy: 0.5214\n",
            "Epoch 59/100\n",
            "26/26 [==============================] - 0s 6ms/step - loss: 1.0553 - accuracy: 0.5290 - val_loss: 1.1194 - val_accuracy: 0.5271\n",
            "Epoch 60/100\n",
            "26/26 [==============================] - 0s 6ms/step - loss: 1.0428 - accuracy: 0.5361 - val_loss: 1.0957 - val_accuracy: 0.5098\n",
            "Epoch 61/100\n",
            "26/26 [==============================] - 0s 6ms/step - loss: 1.0308 - accuracy: 0.5348 - val_loss: 1.1309 - val_accuracy: 0.4829\n",
            "Epoch 62/100\n",
            "26/26 [==============================] - 0s 5ms/step - loss: 1.0253 - accuracy: 0.5463 - val_loss: 1.0931 - val_accuracy: 0.5294\n",
            "Epoch 63/100\n",
            "26/26 [==============================] - 0s 5ms/step - loss: 1.0637 - accuracy: 0.5209 - val_loss: 1.0913 - val_accuracy: 0.5287\n",
            "Epoch 64/100\n",
            "26/26 [==============================] - 0s 5ms/step - loss: 1.0489 - accuracy: 0.5151 - val_loss: 1.1028 - val_accuracy: 0.5240\n",
            "Epoch 65/100\n",
            "26/26 [==============================] - 0s 6ms/step - loss: 1.0366 - accuracy: 0.5454 - val_loss: 1.1009 - val_accuracy: 0.5125\n",
            "Epoch 66/100\n",
            "26/26 [==============================] - 0s 5ms/step - loss: 1.0252 - accuracy: 0.5303 - val_loss: 1.1517 - val_accuracy: 0.5090\n",
            "Epoch 67/100\n",
            "26/26 [==============================] - 0s 6ms/step - loss: 1.0746 - accuracy: 0.5223 - val_loss: 1.0896 - val_accuracy: 0.5287\n",
            "Epoch 68/100\n",
            "26/26 [==============================] - 0s 6ms/step - loss: 1.0381 - accuracy: 0.5388 - val_loss: 1.0976 - val_accuracy: 0.5248\n",
            "Epoch 69/100\n",
            "26/26 [==============================] - 0s 6ms/step - loss: 1.0075 - accuracy: 0.5448 - val_loss: 1.1961 - val_accuracy: 0.4810\n",
            "Epoch 70/100\n",
            "26/26 [==============================] - 0s 6ms/step - loss: 1.0803 - accuracy: 0.4997 - val_loss: 1.0993 - val_accuracy: 0.5198\n",
            "Epoch 71/100\n",
            "26/26 [==============================] - 0s 6ms/step - loss: 1.0319 - accuracy: 0.5358 - val_loss: 1.0914 - val_accuracy: 0.5287\n",
            "Epoch 72/100\n",
            "26/26 [==============================] - 0s 6ms/step - loss: 1.0250 - accuracy: 0.5451 - val_loss: 1.1341 - val_accuracy: 0.5075\n",
            "Epoch 73/100\n",
            "26/26 [==============================] - 0s 5ms/step - loss: 0.9876 - accuracy: 0.5601 - val_loss: 1.0930 - val_accuracy: 0.5333\n",
            "Epoch 74/100\n",
            "26/26 [==============================] - 0s 6ms/step - loss: 0.9872 - accuracy: 0.5600 - val_loss: 1.1061 - val_accuracy: 0.5252\n",
            "Epoch 75/100\n",
            "26/26 [==============================] - 0s 6ms/step - loss: 1.0169 - accuracy: 0.5407 - val_loss: 1.1053 - val_accuracy: 0.5267\n",
            "Epoch 76/100\n",
            "26/26 [==============================] - 0s 6ms/step - loss: 1.0268 - accuracy: 0.5298 - val_loss: 1.1044 - val_accuracy: 0.5160\n",
            "Epoch 77/100\n",
            "26/26 [==============================] - 0s 6ms/step - loss: 1.0324 - accuracy: 0.5471 - val_loss: 1.0917 - val_accuracy: 0.5229\n",
            "Epoch 78/100\n",
            "26/26 [==============================] - 0s 6ms/step - loss: 1.0088 - accuracy: 0.5511 - val_loss: 1.1017 - val_accuracy: 0.5321\n",
            "Epoch 79/100\n",
            "26/26 [==============================] - 0s 5ms/step - loss: 1.0186 - accuracy: 0.5491 - val_loss: 1.0988 - val_accuracy: 0.5221\n",
            "Epoch 80/100\n",
            "26/26 [==============================] - 0s 5ms/step - loss: 1.0424 - accuracy: 0.5275 - val_loss: 1.1033 - val_accuracy: 0.5233\n",
            "Epoch 81/100\n",
            "26/26 [==============================] - 0s 5ms/step - loss: 1.0029 - accuracy: 0.5722 - val_loss: 1.1265 - val_accuracy: 0.5267\n",
            "Epoch 82/100\n",
            "26/26 [==============================] - 0s 6ms/step - loss: 1.0325 - accuracy: 0.5279 - val_loss: 1.1117 - val_accuracy: 0.5321\n",
            "Epoch 83/100\n",
            "26/26 [==============================] - 0s 6ms/step - loss: 1.0184 - accuracy: 0.5514 - val_loss: 1.1138 - val_accuracy: 0.5137\n",
            "Epoch 84/100\n",
            "26/26 [==============================] - 0s 6ms/step - loss: 1.0282 - accuracy: 0.5399 - val_loss: 1.1425 - val_accuracy: 0.5029\n",
            "Epoch 85/100\n",
            "26/26 [==============================] - 0s 5ms/step - loss: 1.0300 - accuracy: 0.5192 - val_loss: 1.0990 - val_accuracy: 0.5394\n",
            "Epoch 86/100\n",
            "26/26 [==============================] - 0s 6ms/step - loss: 0.9682 - accuracy: 0.5648 - val_loss: 1.1714 - val_accuracy: 0.4906\n",
            "Epoch 87/100\n",
            "26/26 [==============================] - 0s 6ms/step - loss: 0.9953 - accuracy: 0.5506 - val_loss: 1.1022 - val_accuracy: 0.5364\n",
            "Epoch 88/100\n",
            "26/26 [==============================] - 0s 5ms/step - loss: 1.0210 - accuracy: 0.5434 - val_loss: 1.1045 - val_accuracy: 0.5283\n",
            "Epoch 89/100\n",
            "26/26 [==============================] - 0s 6ms/step - loss: 0.9732 - accuracy: 0.5658 - val_loss: 1.1190 - val_accuracy: 0.5252\n",
            "Epoch 90/100\n",
            "26/26 [==============================] - 0s 6ms/step - loss: 0.9986 - accuracy: 0.5545 - val_loss: 1.1260 - val_accuracy: 0.5233\n",
            "Epoch 91/100\n",
            "26/26 [==============================] - 0s 6ms/step - loss: 0.9910 - accuracy: 0.5472 - val_loss: 1.1163 - val_accuracy: 0.5171\n",
            "Epoch 92/100\n",
            "26/26 [==============================] - 0s 5ms/step - loss: 0.9944 - accuracy: 0.5574 - val_loss: 1.1254 - val_accuracy: 0.5171\n",
            "Epoch 93/100\n",
            "26/26 [==============================] - 0s 5ms/step - loss: 0.9968 - accuracy: 0.5625 - val_loss: 1.1607 - val_accuracy: 0.4940\n",
            "Epoch 94/100\n",
            "26/26 [==============================] - 0s 6ms/step - loss: 0.9952 - accuracy: 0.5556 - val_loss: 1.1352 - val_accuracy: 0.5233\n",
            "Epoch 95/100\n",
            "26/26 [==============================] - 0s 6ms/step - loss: 0.9769 - accuracy: 0.5629 - val_loss: 1.1612 - val_accuracy: 0.4906\n",
            "Epoch 96/100\n",
            "26/26 [==============================] - 0s 6ms/step - loss: 0.9927 - accuracy: 0.5365 - val_loss: 1.1245 - val_accuracy: 0.5190\n",
            "Epoch 97/100\n",
            "26/26 [==============================] - 0s 6ms/step - loss: 0.9759 - accuracy: 0.5390 - val_loss: 1.1263 - val_accuracy: 0.5337\n",
            "Epoch 98/100\n",
            "26/26 [==============================] - 0s 5ms/step - loss: 0.9913 - accuracy: 0.5544 - val_loss: 1.1792 - val_accuracy: 0.4844\n",
            "Epoch 99/100\n",
            "26/26 [==============================] - 0s 6ms/step - loss: 1.0157 - accuracy: 0.5290 - val_loss: 1.1221 - val_accuracy: 0.5287\n",
            "Epoch 100/100\n",
            "26/26 [==============================] - 0s 6ms/step - loss: 0.9570 - accuracy: 0.5690 - val_loss: 1.1417 - val_accuracy: 0.5029\n"
          ],
          "name": "stdout"
        }
      ]
    },
    {
      "cell_type": "markdown",
      "metadata": {
        "id": "uUhYI89tWrqj"
      },
      "source": [
        "Let's define a function to visualize our loss"
      ]
    },
    {
      "cell_type": "code",
      "metadata": {
        "colab": {
          "base_uri": "https://localhost:8080/",
          "height": 279
        },
        "id": "PJrFlAaDWrqk",
        "outputId": "afc5eaad-ccc2-4a7f-e82d-b6a38c88540a"
      },
      "source": [
        "def show_loss(history):\n",
        "    plt.figure()\n",
        "    plt.plot(history.history['val_loss'], label=\"val loss\")\n",
        "    plt.plot(history.history['loss'],label=\"train loss\")\n",
        "    plt.xlabel(\"Epoch\")\n",
        "    plt.ylabel(\"Loss\")\n",
        "    plt.legend()\n",
        "show_loss(history)"
      ],
      "execution_count": 126,
      "outputs": [
        {
          "output_type": "display_data",
          "data": {
            "image/png": "[encoded data removed]",
            "text/plain": [
              "<Figure size 432x288 with 1 Axes>"
            ]
          },
          "metadata": {
            "tags": [],
            "needs_background": "light"
          }
        }
      ]
    },
    {
      "cell_type": "markdown",
      "metadata": {
        "id": "snz80SqYWrqk"
      },
      "source": [
        "It looks like our training loss is more or less monotonically minimized with each epoch (with some fluctuations) while the validation loss seems to be on average higher. The validation loss spikes more severely than the training loss, which is probably due to limited statistics (we only had ~6k samples and took onlt 20% of them for validation - it usually takes LOTS of data to train neural networks well!). The trend discrepancy between training and validation losses could indicate some overfitting in our model. What happens if you increase the percentage of data used for validation? Since it's pretty apparent we're overfitting to our training data, we could introduce some sort of regularization techniques, like L2 regularization (that penalizes large weights) or dropout (that randomly drops neurons in a layer with a set probability). What happens if you introduce some of these methods?"
      ]
    },
    {
      "cell_type": "markdown",
      "metadata": {
        "id": "3BAPnO0PWrql"
      },
      "source": [
        "### Remember that test data we set aside at the beginning?\n",
        "Now it's time to use it to evaluate our model performance!"
      ]
    },
    {
      "cell_type": "code",
      "metadata": {
        "scrolled": true,
        "colab": {
          "base_uri": "https://localhost:8080/"
        },
        "id": "Ih1XPSgzWrql",
        "outputId": "18c80085-54b8-4cd6-a63d-b27eab06fa90"
      },
      "source": [
        "_, acc = model.evaluate(df_test, df_testLabels, verbose=1)\n",
        "print('Accuracy for test data is',acc)"
      ],
      "execution_count": 127,
      "outputs": [
        {
          "output_type": "stream",
          "text": [
            "41/41 [==============================] - 0s 960us/step - loss: 1.1245 - accuracy: 0.5354\n",
            "Accuracy for test data is 0.5353845953941345\n"
          ],
          "name": "stdout"
        }
      ]
    },
    {
      "cell_type": "markdown",
      "metadata": {
        "id": "FWUnjtlXWrqm"
      },
      "source": [
        "To plot our results, I just chose the highest probability of the classes and assigned the prediction to a class based on that rounding (highest probability gets a 1, every other class gets a 0). Then, I one-hot decoded the rounded array to get a single number for the class. "
      ]
    },
    {
      "cell_type": "code",
      "metadata": {
        "colab": {
          "base_uri": "https://localhost:8080/",
          "height": 295
        },
        "id": "0OqVA448Wrqm",
        "outputId": "42d54f23-f6b9-4c46-82ab-cab96a265f37"
      },
      "source": [
        "preds = model.predict(df_test)\n",
        "#preds = [i.round() for i in preds]\n",
        "preds = tf.one_hot(tf.math.argmax(preds,axis =1),depth = len(preds[0]))\n",
        "\n",
        "preds = enc.inverse_transform(preds)\n",
        "testLabels = enc.inverse_transform(df_testLabels)\n",
        "cm = confusion_matrix(testLabels, preds)\n",
        "\n",
        "_ =plt.imshow(cm, cmap=plt.cm.Blues)\n",
        "_ = plt.xlabel(\"Predicted labels\")\n",
        "_ = plt.ylabel(\"True labels\")\n",
        "\n",
        "_ =plt.xticks(np.arange(0,len(np.unique(testLabels)),1),np.unique(testLabels))\n",
        "_ =plt.yticks(np.arange(0,len(np.unique(testLabels)),1),np.unique(testLabels))\n",
        "_ =plt.title('Confusion matrix ')\n",
        "_ =plt.colorbar()\n",
        "plt.show()"
      ],
      "execution_count": 128,
      "outputs": [
        {
          "output_type": "display_data",
          "data": {
            "image/png": "[encoded data removed]",
            "text/plain": [
              "<Figure size 432x288 with 2 Axes>"
            ]
          },
          "metadata": {
            "tags": [],
            "needs_background": "light"
          }
        }
      ]
    },
    {
      "cell_type": "markdown",
      "metadata": {
        "id": "YtuigCqrWrqm"
      },
      "source": [
        "It looks like our network is only predicting *some* of our classes. Maybe that's because really good wine (rated 8 and 9) is pretty rare? Let's check it out."
      ]
    },
    {
      "cell_type": "code",
      "metadata": {
        "colab": {
          "base_uri": "https://localhost:8080/",
          "height": 265
        },
        "id": "-GcoLV44Wrqm",
        "outputId": "006a60a1-73ea-41a1-9553-fac6dd05d9ba"
      },
      "source": [
        "_=plt.hist(enc.inverse_transform(labels),label='training labels')\n",
        "_=plt.hist(testLabels,label='test labels')\n",
        "_=plt.yscale('log')\n",
        "_=plt.legend()"
      ],
      "execution_count": 129,
      "outputs": [
        {
          "output_type": "display_data",
          "data": {
            "image/png": "[encoded data removed]",
            "text/plain": [
              "<Figure size 432x288 with 1 Axes>"
            ]
          },
          "metadata": {
            "tags": [],
            "needs_background": "light"
          }
        }
      ]
    },
    {
      "cell_type": "markdown",
      "metadata": {
        "id": "uwfxY3NsWrqm"
      },
      "source": [
        "Yep! Mostly 5s, 6s, and 7s. Only a handful of really good wines (8s and 9s) and really bad wines (3s and 4s). In fact, no scores below a 3! But no perfect 10s either. Overall, I would say that the dataset is imbalanced (mostly ok wines, some bad and some good - a pretty Gaussian distribution) and could benefit from data augmentation techniques like bootstrapping! Maybe you could even generate some more data from randomly sampling a known distribution...But if you train your model on mostly ok wines, then it learns the characteristics of those wines really well. So, when it's faced with a good or bad wine, it's not as sure how to classify it. You can see if this is happening by looking at the network output, which are the probabilities for each class (ie how sure the network is this sample belongs to a certain class)."
      ]
    },
    {
      "cell_type": "markdown",
      "metadata": {
        "id": "wXzcBi7SWrqn"
      },
      "source": [
        "### Overall, \n",
        "our network performs ok with a training, validation, and test accuracy all around 50-60%. What could you change about the network or inputs? How do you think that would affect the model's predictions?\n",
        "\n",
        "\n",
        "\n",
        "\n",
        "I could change number of layers in the network or slice the test and training data differently. I would think incresing number of layer will definately increase the accuracy of the validation. \n"
      ]
    },
    {
      "cell_type": "code",
      "metadata": {
        "id": "EB_s6PIvWrqn"
      },
      "source": [
        ""
      ],
      "execution_count": 129,
      "outputs": []
    },
    {
      "cell_type": "code",
      "metadata": {
        "id": "yJ19iUlVckPg"
      },
      "source": [
        ""
      ],
      "execution_count": 129,
      "outputs": []
    }
  ]
}